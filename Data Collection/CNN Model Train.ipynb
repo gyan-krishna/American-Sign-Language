{
 "cells": [
  {
   "cell_type": "markdown",
   "metadata": {},
   "source": [
    "## CNN Model"
   ]
  },
  {
   "cell_type": "markdown",
   "metadata": {},
   "source": [
    "### Importing necessary libraries"
   ]
  },
  {
   "cell_type": "code",
   "execution_count": 116,
   "metadata": {},
   "outputs": [
    {
     "name": "stdout",
     "output_type": "stream",
     "text": [
      "Requirement already satisfied: graphviz in c:\\programdata\\anaconda3\\lib\\site-packages (0.16)\n"
     ]
    }
   ],
   "source": [
    "!pip install graphviz"
   ]
  },
  {
   "cell_type": "code",
   "execution_count": 117,
   "metadata": {},
   "outputs": [],
   "source": [
    "from keras.models import Sequential\n",
    "from keras.layers import Dense, Flatten, Dropout\n",
    "from keras.layers import Conv2D\n",
    "from keras_visualizer import visualizer\n",
    "\n",
    "from keras.utils import plot_model\n",
    "#from keras.callbacks import Callback\n",
    "\n",
    "from sklearn.preprocessing import LabelBinarizer\n",
    "from sklearn.model_selection import train_test_split\n",
    "\n",
    "import tensorflow as tf\n",
    "from tensorflow.python.client import device_lib\n",
    "import matplotlib.pyplot as plt\n",
    "import numpy as np\n",
    "from tqdm import tqdm "
   ]
  },
  {
   "cell_type": "code",
   "execution_count": 118,
   "metadata": {},
   "outputs": [
    {
     "name": "stdout",
     "output_type": "stream",
     "text": [
      "Num GPUs Available:  1\n",
      "[PhysicalDevice(name='/physical_device:GPU:0', device_type='GPU')]\n"
     ]
    }
   ],
   "source": [
    "print(\"Num GPUs Available: \", len(tf.config.list_physical_devices('GPU')))\n",
    "print(tf.config.list_physical_devices('GPU'))"
   ]
  },
  {
   "cell_type": "code",
   "execution_count": 119,
   "metadata": {},
   "outputs": [
    {
     "data": {
      "text/plain": [
       "[name: \"/device:CPU:0\"\n",
       " device_type: \"CPU\"\n",
       " memory_limit: 268435456\n",
       " locality {\n",
       " }\n",
       " incarnation: 6129027817336443807,\n",
       " name: \"/device:GPU:0\"\n",
       " device_type: \"GPU\"\n",
       " memory_limit: 3044750132\n",
       " locality {\n",
       "   bus_id: 1\n",
       "   links {\n",
       "   }\n",
       " }\n",
       " incarnation: 17341872392528634371\n",
       " physical_device_desc: \"device: 0, name: NVIDIA GeForce GTX 1650, pci bus id: 0000:01:00.0, compute capability: 7.5\"]"
      ]
     },
     "execution_count": 119,
     "metadata": {},
     "output_type": "execute_result"
    }
   ],
   "source": [
    "device_lib.list_local_devices()"
   ]
  },
  {
   "cell_type": "code",
   "execution_count": 120,
   "metadata": {},
   "outputs": [],
   "source": [
    "y_labels = ['A', 'B', 'C', 'D', 'E', 'F', 'G', 'H', 'I', 'J', 'K', 'L', 'M', 'N', 'O', 'P', 'Q', 'R', 'S', 'T', 'U', 'V', 'W', 'X', 'Y', 'Z']\n",
    "batch_size = 128\n",
    "epochs = 20\n",
    "num_classes = 11 #26"
   ]
  },
  {
   "cell_type": "code",
   "execution_count": 121,
   "metadata": {},
   "outputs": [],
   "source": [
    "x_data = np.load('x_data.npy')\n",
    "y_data = np.load('y_data.npy')\n",
    "x_dimm, y_dimm = x_data.shape[1:]"
   ]
  },
  {
   "cell_type": "code",
   "execution_count": 122,
   "metadata": {},
   "outputs": [
    {
     "name": "stdout",
     "output_type": "stream",
     "text": [
      "(98673, 7, 9)\n",
      "(98673,)\n",
      "7 9\n"
     ]
    }
   ],
   "source": [
    "print(x_data.shape)\n",
    "print(y_data.shape)\n",
    "print(x_dimm, y_dimm)"
   ]
  },
  {
   "cell_type": "code",
   "execution_count": 123,
   "metadata": {},
   "outputs": [],
   "source": [
    "# shuffling and splitting the data into trainning and testing data\n",
    "x_train, x_test, y_train, y_test = train_test_split(x_data, \n",
    "                                                    y_data, \n",
    "                                                    train_size = 0.90)"
   ]
  },
  {
   "cell_type": "markdown",
   "metadata": {},
   "source": [
    "## Adding an extra dimension to the input data since Conv2D layer accepts a 4D tensor as input"
   ]
  },
  {
   "cell_type": "code",
   "execution_count": 124,
   "metadata": {},
   "outputs": [],
   "source": [
    "x_train = x_train.reshape(x_train.shape[0], x_dimm, y_dimm, 1)\n",
    "x_test = x_test.reshape(x_test.shape[0],    x_dimm, y_dimm, 1)"
   ]
  },
  {
   "cell_type": "code",
   "execution_count": 125,
   "metadata": {},
   "outputs": [
    {
     "name": "stdout",
     "output_type": "stream",
     "text": [
      "x_train =  (88805, 7, 9, 1)\n",
      "y_train =  (88805,)\n",
      "x_test  =  (9868, 7, 9, 1)\n",
      "y_train =  (88805,)\n"
     ]
    }
   ],
   "source": [
    "print(\"x_train = \", x_train.shape)\n",
    "print(\"y_train = \",y_train.shape)\n",
    "\n",
    "print(\"x_test  = \",x_test.shape)\n",
    "print(\"y_train = \",y_train.shape)"
   ]
  },
  {
   "cell_type": "markdown",
   "metadata": {},
   "source": [
    "## One-hot encoding the y labels"
   ]
  },
  {
   "cell_type": "code",
   "execution_count": 126,
   "metadata": {},
   "outputs": [],
   "source": [
    "encoder = LabelBinarizer()\n",
    "y_train_cat = encoder.fit_transform(y_train)\n",
    "y_test_cat  = encoder.fit_transform(y_test)"
   ]
  },
  {
   "cell_type": "code",
   "execution_count": 127,
   "metadata": {},
   "outputs": [
    {
     "name": "stdout",
     "output_type": "stream",
     "text": [
      "y_train_cat =  (88805, 11)\n",
      "y_test_cat  =  (9868, 11)\n"
     ]
    }
   ],
   "source": [
    "print(\"y_train_cat = \",y_train_cat.shape)\n",
    "print(\"y_test_cat  = \",y_test_cat.shape)"
   ]
  },
  {
   "cell_type": "markdown",
   "metadata": {},
   "source": [
    "## Creating the baseline model."
   ]
  },
  {
   "cell_type": "code",
   "execution_count": 128,
   "metadata": {},
   "outputs": [],
   "source": [
    "def baseline_model():\n",
    "    model = Sequential()\n",
    "    \n",
    "    #convoltional layer\n",
    "    model.add(Conv2D(32, \n",
    "                    kernel_size = (3,3),\n",
    "                    activation = 'relu',\n",
    "                    input_shape = x_train.shape[1:]))\n",
    "    model.add(Flatten())\n",
    "    \n",
    "    #dense layers\n",
    "    model.add(Dense(400, activation='relu'))\n",
    "    model.add(Dropout(0.3))\n",
    "    \n",
    "    model.add(Dense(200, activation='relu'))\n",
    "    model.add(Dropout(0.2))\n",
    "    \n",
    "    model.add(Dense(50, activation='relu'))\n",
    "    model.add(Dropout(0.1))\n",
    "    \n",
    "    #output layer\n",
    "    model.add(Dense(num_classes, activation='softmax'))\n",
    "    \n",
    "    model.compile(loss = 'categorical_crossentropy',\n",
    "                 optimizer = 'adam',\n",
    "                 metrics = ['accuracy'])\n",
    "    \n",
    "    print(model.summary())\n",
    "    return model"
   ]
  },
  {
   "cell_type": "code",
   "execution_count": 129,
   "metadata": {},
   "outputs": [
    {
     "name": "stdout",
     "output_type": "stream",
     "text": [
      "Model: \"sequential_1\"\n",
      "_________________________________________________________________\n",
      "Layer (type)                 Output Shape              Param #   \n",
      "=================================================================\n",
      "conv2d_1 (Conv2D)            (None, 5, 7, 32)          320       \n",
      "_________________________________________________________________\n",
      "flatten_1 (Flatten)          (None, 1120)              0         \n",
      "_________________________________________________________________\n",
      "dense_4 (Dense)              (None, 400)               448400    \n",
      "_________________________________________________________________\n",
      "dropout_3 (Dropout)          (None, 400)               0         \n",
      "_________________________________________________________________\n",
      "dense_5 (Dense)              (None, 200)               80200     \n",
      "_________________________________________________________________\n",
      "dropout_4 (Dropout)          (None, 200)               0         \n",
      "_________________________________________________________________\n",
      "dense_6 (Dense)              (None, 50)                10050     \n",
      "_________________________________________________________________\n",
      "dropout_5 (Dropout)          (None, 50)                0         \n",
      "_________________________________________________________________\n",
      "dense_7 (Dense)              (None, 11)                561       \n",
      "=================================================================\n",
      "Total params: 539,531\n",
      "Trainable params: 539,531\n",
      "Non-trainable params: 0\n",
      "_________________________________________________________________\n",
      "None\n"
     ]
    }
   ],
   "source": [
    "baseline = baseline_model()"
   ]
  },
  {
   "cell_type": "code",
   "execution_count": 130,
   "metadata": {},
   "outputs": [
    {
     "name": "stdout",
     "output_type": "stream",
     "text": [
      "Epoch 1/20\n",
      "556/556 [==============================] - 5s 8ms/step - loss: 1.0599 - accuracy: 0.6433 - val_loss: 0.1969 - val_accuracy: 0.9420\n",
      "Epoch 2/20\n",
      "556/556 [==============================] - 4s 7ms/step - loss: 0.2371 - accuracy: 0.9306 - val_loss: 0.1637 - val_accuracy: 0.9485\n",
      "Epoch 3/20\n",
      "556/556 [==============================] - 4s 7ms/step - loss: 0.1899 - accuracy: 0.9427 - val_loss: 0.1355 - val_accuracy: 0.9572\n",
      "Epoch 4/20\n",
      "556/556 [==============================] - 4s 7ms/step - loss: 0.1650 - accuracy: 0.9504 - val_loss: 0.1238 - val_accuracy: 0.9590\n",
      "Epoch 5/20\n",
      "556/556 [==============================] - 4s 7ms/step - loss: 0.1467 - accuracy: 0.9554 - val_loss: 0.1301 - val_accuracy: 0.9588\n",
      "Epoch 6/20\n",
      "556/556 [==============================] - 4s 7ms/step - loss: 0.1333 - accuracy: 0.9588 - val_loss: 0.1137 - val_accuracy: 0.9626\n",
      "Epoch 7/20\n",
      "556/556 [==============================] - 4s 7ms/step - loss: 0.1271 - accuracy: 0.9614 - val_loss: 0.1018 - val_accuracy: 0.9669\n",
      "Epoch 8/20\n",
      "556/556 [==============================] - 4s 7ms/step - loss: 0.1142 - accuracy: 0.9640 - val_loss: 0.1022 - val_accuracy: 0.9682\n",
      "Epoch 9/20\n",
      "556/556 [==============================] - 4s 7ms/step - loss: 0.1062 - accuracy: 0.9667 - val_loss: 0.0964 - val_accuracy: 0.9691\n",
      "Epoch 10/20\n",
      "556/556 [==============================] - 4s 7ms/step - loss: 0.1013 - accuracy: 0.9672 - val_loss: 0.0950 - val_accuracy: 0.9699\n",
      "Epoch 11/20\n",
      "556/556 [==============================] - 4s 8ms/step - loss: 0.0953 - accuracy: 0.9698 - val_loss: 0.0910 - val_accuracy: 0.9708\n",
      "Epoch 12/20\n",
      "556/556 [==============================] - 4s 8ms/step - loss: 0.0910 - accuracy: 0.9712 - val_loss: 0.0889 - val_accuracy: 0.9714\n",
      "Epoch 13/20\n",
      "556/556 [==============================] - 4s 7ms/step - loss: 0.0935 - accuracy: 0.9700 - val_loss: 0.0873 - val_accuracy: 0.9718\n",
      "Epoch 14/20\n",
      "556/556 [==============================] - 4s 8ms/step - loss: 0.0844 - accuracy: 0.9727 - val_loss: 0.0848 - val_accuracy: 0.9734\n",
      "Epoch 15/20\n",
      "556/556 [==============================] - 4s 7ms/step - loss: 0.0794 - accuracy: 0.9746 - val_loss: 0.0862 - val_accuracy: 0.9721\n",
      "Epoch 16/20\n",
      "556/556 [==============================] - 4s 8ms/step - loss: 0.0759 - accuracy: 0.9765 - val_loss: 0.0848 - val_accuracy: 0.9725\n",
      "Epoch 17/20\n",
      "556/556 [==============================] - 4s 8ms/step - loss: 0.0736 - accuracy: 0.9757 - val_loss: 0.0824 - val_accuracy: 0.9742\n",
      "Epoch 18/20\n",
      "556/556 [==============================] - 4s 7ms/step - loss: 0.0696 - accuracy: 0.9779 - val_loss: 0.0831 - val_accuracy: 0.9738\n",
      "Epoch 19/20\n",
      "556/556 [==============================] - 4s 7ms/step - loss: 0.0680 - accuracy: 0.9777 - val_loss: 0.0815 - val_accuracy: 0.9740\n",
      "Epoch 20/20\n",
      "556/556 [==============================] - 4s 7ms/step - loss: 0.0660 - accuracy: 0.9787 - val_loss: 0.0819 - val_accuracy: 0.9755\n"
     ]
    }
   ],
   "source": [
    "baseline_log = baseline.fit(x_train, \n",
    "             y_train_cat, \n",
    "             batch_size = batch_size, \n",
    "             epochs = epochs, \n",
    "             validation_split = 0.2,\n",
    "             verbose=1)"
   ]
  },
  {
   "cell_type": "markdown",
   "metadata": {},
   "source": [
    "## Function to plot the accuracy and loss of a model"
   ]
  },
  {
   "cell_type": "code",
   "execution_count": 131,
   "metadata": {},
   "outputs": [],
   "source": [
    "def plot_accuracy(model, history):\n",
    "    eval_loss, eval_accuracy = model.evaluate(x_test, y_test_cat, verbose = 0)\n",
    "    #print(history.history['loss'])\n",
    "    print(\"Train loss          = \", history.history['loss'][-1])\n",
    "    print(\"Train accuracy      = \", history.history['accuracy'][-1])\n",
    "    print()\n",
    "    print(\"Validation loss     = \", history.history['val_loss'][-1])\n",
    "    print(\"Validation accuracy = \", history.history['val_accuracy'][-1])\n",
    "    print()\n",
    "    print(\"test loss           = \",eval_loss)\n",
    "    print(\"test accuracy       = \",eval_accuracy)\n",
    "    plt.subplot(2,1,1)\n",
    "    \n",
    "    plt.title('Model Accuracy')\n",
    "    plt.plot(range(epochs), history.history['accuracy'])\n",
    "    plt.plot(range(epochs), history.history['val_accuracy'])\n",
    "\n",
    "    plt.ylabel('Accuracy')\n",
    "    plt.xlabel('Epochs')\n",
    "    plt.legend(['Train', 'Validation'], loc='lower right')\n",
    "\n",
    "    plt.subplot(2,1,2)\n",
    "    plt.title('Model loss')\n",
    "    plt.plot(history.history['loss'])\n",
    "    plt.plot(history.history['val_loss'])\n",
    "\n",
    "    plt.ylabel('Loss')\n",
    "    plt.xlabel('Epochs')\n",
    "    plt.legend(['Train', 'Validation'], loc='lower right')\n",
    "\n",
    "    plt.tight_layout()"
   ]
  },
  {
   "cell_type": "code",
   "execution_count": 132,
   "metadata": {},
   "outputs": [
    {
     "name": "stdout",
     "output_type": "stream",
     "text": [
      "Train loss          =  0.06687166541814804\n",
      "Train accuracy      =  0.9781684875488281\n",
      "\n",
      "Validation loss     =  0.08188892155885696\n",
      "Validation accuracy =  0.9754518270492554\n",
      "\n",
      "test loss           =  0.07535407692193985\n",
      "test accuracy       =  0.9780097007751465\n"
     ]
    },
    {
     "data": {
      "image/png": "[encoded data removed]",
      "text/plain": [
       "<Figure size 432x288 with 2 Axes>"
      ]
     },
     "metadata": {
      "needs_background": "light"
     },
     "output_type": "display_data"
    }
   ],
   "source": [
    "plot_accuracy(baseline, baseline_log)"
   ]
  },
  {
   "cell_type": "code",
   "execution_count": 133,
   "metadata": {},
   "outputs": [
    {
     "name": "stdout",
     "output_type": "stream",
     "text": [
      "309/309 [==============================] - 1s 4ms/step - loss: 0.0754 - accuracy: 0.9780\n",
      "test_accuracy =  0.07535407692193985\n",
      "test_loss =  0.9780097007751465\n"
     ]
    }
   ],
   "source": [
    "test_log = baseline.evaluate(x_test, y_test_cat)\n",
    "print(\"test_loss = \", test_log[0])\n",
    "print(\"test_accuracy = \", test_log[1])"
   ]
  },
  {
   "cell_type": "code",
   "execution_count": null,
   "metadata": {},
   "outputs": [],
   "source": []
  },
  {
   "cell_type": "code",
   "execution_count": null,
   "metadata": {},
   "outputs": [],
   "source": []
  },
  {
   "cell_type": "code",
   "execution_count": null,
   "metadata": {},
   "outputs": [],
   "source": []
  },
  {
   "cell_type": "code",
   "execution_count": null,
   "metadata": {},
   "outputs": [],
   "source": []
  },
  {
   "cell_type": "code",
   "execution_count": 134,
   "metadata": {},
   "outputs": [
    {
     "name": "stdout",
     "output_type": "stream",
     "text": [
      "(7, 9, 1)\n"
     ]
    }
   ],
   "source": [
    "print(x_train[1].shape)"
   ]
  },
  {
   "cell_type": "code",
   "execution_count": 135,
   "metadata": {},
   "outputs": [
    {
     "name": "stderr",
     "output_type": "stream",
     "text": [
      "100%|████████████████████████████████████████████████████████████████████████████████████████████| 9868/9868 [09:20<00:00, 17.61it/s]\n"
     ]
    }
   ],
   "source": [
    "cat_accuracy = [[0, 0, 0]]*num_classes\n",
    "cat_matrix = np.array( [[0]*num_classes]*num_classes)\n",
    "\n",
    "l = len(x_test)\n",
    "\n",
    "for i in tqdm( range(l) ):\n",
    "    x = x_test[i]\n",
    "    y = y_test_cat[i]\n",
    "    \n",
    "    x = x.reshape(1, 7, 9, 1)\n",
    "    res = np.argmax(baseline.predict(x)) \n",
    "    cat_matrix[np.argmax(y)][res] += 1"
   ]
  },
  {
   "cell_type": "code",
   "execution_count": 136,
   "metadata": {},
   "outputs": [
    {
     "data": {
      "text/plain": [
       "array([[874,   0,   2,   5,   4,   0,   2,   0,   2,   2,   2],\n",
       "       [  1, 881,   0,   5,   3,   0,   0,   0,   0,   0,   3],\n",
       "       [  2,   3, 889,   2,   1,   0,   2,   0,   0,   0,   3],\n",
       "       [  2,   1,   2, 884,   0,   0,   1,   1,   4,   1,   4],\n",
       "       [ 19,   4,   3,   5, 815,   0,   2,   3,   4,   4,   0],\n",
       "       [  0,   4,   5,   1,   1, 938,   4,   1,   3,   2,   4],\n",
       "       [  0,   0,   3,   1,   0,   0, 886,  12,   3,   3,   2],\n",
       "       [  0,   0,   1,   0,   0,   1,  23, 901,   0,   2,   2],\n",
       "       [  2,   0,   1,   1,   2,   1,   1,   0, 856,   2,   0],\n",
       "       [  1,   0,   1,   0,   0,   0,   3,   3,   2, 870,   1],\n",
       "       [  0,   1,   0,   6,   0,   2,   2,   1,   2,   0, 857]])"
      ]
     },
     "execution_count": 136,
     "metadata": {},
     "output_type": "execute_result"
    }
   ],
   "source": [
    "cat_matrix"
   ]
  },
  {
   "cell_type": "code",
   "execution_count": 144,
   "metadata": {},
   "outputs": [],
   "source": [
    "cat_matrix_per = np.array( [[0]*num_classes]*num_classes, dtype = 'float32')\n",
    "for i in range(num_classes):\n",
    "    total = np.sum(cat_matrix[i])\n",
    "    for j in range(num_classes):\n",
    "        cat_matrix_per[i][j] = cat_matrix[i][j]/total"
   ]
  },
  {
   "cell_type": "code",
   "execution_count": 150,
   "metadata": {},
   "outputs": [
    {
     "name": "stdout",
     "output_type": "stream",
     "text": [
      "[[0.98 0.   0.   0.01 0.   0.   0.   0.   0.   0.   0.  ]\n",
      " [0.   0.99 0.   0.01 0.   0.   0.   0.   0.   0.   0.  ]\n",
      " [0.   0.   0.99 0.   0.   0.   0.   0.   0.   0.   0.  ]\n",
      " [0.   0.   0.   0.98 0.   0.   0.   0.   0.   0.   0.  ]\n",
      " [0.02 0.   0.   0.01 0.95 0.   0.   0.   0.   0.   0.  ]\n",
      " [0.   0.   0.01 0.   0.   0.97 0.   0.   0.   0.   0.  ]\n",
      " [0.   0.   0.   0.   0.   0.   0.97 0.01 0.   0.   0.  ]\n",
      " [0.   0.   0.   0.   0.   0.   0.02 0.97 0.   0.   0.  ]\n",
      " [0.   0.   0.   0.   0.   0.   0.   0.   0.99 0.   0.  ]\n",
      " [0.   0.   0.   0.   0.   0.   0.   0.   0.   0.99 0.  ]\n",
      " [0.   0.   0.   0.01 0.   0.   0.   0.   0.   0.   0.98]]\n"
     ]
    }
   ],
   "source": [
    "np.set_printoptions(precision=2)\n",
    "print(cat_matrix_per)"
   ]
  },
  {
   "cell_type": "code",
   "execution_count": null,
   "metadata": {},
   "outputs": [],
   "source": []
  },
  {
   "cell_type": "code",
   "execution_count": null,
   "metadata": {},
   "outputs": [],
   "source": []
  },
  {
   "cell_type": "code",
   "execution_count": null,
   "metadata": {},
   "outputs": [],
   "source": []
  },
  {
   "cell_type": "code",
   "execution_count": 140,
   "metadata": {},
   "outputs": [],
   "source": [
    "baseline.save(\"baseline.model\", save_format=\"h5\")"
   ]
  }
 ],
 "metadata": {
  "kernelspec": {
   "display_name": "Python 3",
   "language": "python",
   "name": "python3"
  },
  "language_info": {
   "codemirror_mode": {
    "name": "ipython",
    "version": 3
   },
   "file_extension": ".py",
   "mimetype": "text/x-python",
   "name": "python",
   "nbconvert_exporter": "python",
   "pygments_lexer": "ipython3",
   "version": "3.8.5"
  }
 },
 "nbformat": 4,
 "nbformat_minor": 4
}
