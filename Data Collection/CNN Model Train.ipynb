{
 "cells": [
  {
   "cell_type": "markdown",
   "metadata": {},
   "source": [
    "## CNN Model"
   ]
  },
  {
   "cell_type": "markdown",
   "metadata": {},
   "source": [
    "### Importing necessary libraries"
   ]
  },
  {
   "cell_type": "code",
   "execution_count": 167,
   "metadata": {},
   "outputs": [],
   "source": [
    "from keras.models import Sequential\n",
    "from keras.layers import Dense, Flatten, Dropout\n",
    "from keras.layers import Conv2D\n",
    "\n",
    "from keras.utils import plot_model\n",
    "#from keras.callbacks import Callback\n",
    "\n",
    "from sklearn.preprocessing import LabelBinarizer\n",
    "from sklearn.model_selection import train_test_split\n",
    "\n",
    "import tensorflow as tf\n",
    "from tensorflow.python.client import device_lib\n",
    "import matplotlib.pyplot as plt\n",
    "import numpy as np\n"
   ]
  },
  {
   "cell_type": "code",
   "execution_count": 174,
   "metadata": {},
   "outputs": [
    {
     "name": "stdout",
     "output_type": "stream",
     "text": [
      "Num GPUs Available:  1\n",
      "[PhysicalDevice(name='/physical_device:GPU:0', device_type='GPU')]\n"
     ]
    }
   ],
   "source": [
    "print(\"Num GPUs Available: \", len(tf.config.list_physical_devices('GPU')))\n",
    "print(tf.config.list_physical_devices('GPU'))"
   ]
  },
  {
   "cell_type": "code",
   "execution_count": 176,
   "metadata": {},
   "outputs": [
    {
     "data": {
      "text/plain": [
       "[name: \"/device:CPU:0\"\n",
       " device_type: \"CPU\"\n",
       " memory_limit: 268435456\n",
       " locality {\n",
       " }\n",
       " incarnation: 17830004474328084428,\n",
       " name: \"/device:GPU:0\"\n",
       " device_type: \"GPU\"\n",
       " memory_limit: 3044750132\n",
       " locality {\n",
       "   bus_id: 1\n",
       "   links {\n",
       "   }\n",
       " }\n",
       " incarnation: 10120403766882409416\n",
       " physical_device_desc: \"device: 0, name: NVIDIA GeForce GTX 1650, pci bus id: 0000:01:00.0, compute capability: 7.5\"]"
      ]
     },
     "execution_count": 176,
     "metadata": {},
     "output_type": "execute_result"
    }
   ],
   "source": [
    "device_lib.list_local_devices()"
   ]
  },
  {
   "cell_type": "code",
   "execution_count": 111,
   "metadata": {},
   "outputs": [],
   "source": [
    "# batch_size = 128\n",
    "epochs = 50\n",
    "num_classes = 11 #26\n",
    "x_dimm, y_dimm = 3, 21"
   ]
  },
  {
   "cell_type": "code",
   "execution_count": 112,
   "metadata": {},
   "outputs": [],
   "source": [
    "x_data = np.load('x_data.npy')\n",
    "y_data = np.load('y_data.npy')"
   ]
  },
  {
   "cell_type": "code",
   "execution_count": 113,
   "metadata": {},
   "outputs": [
    {
     "name": "stdout",
     "output_type": "stream",
     "text": [
      "(98684, 21, 3)\n",
      "(98684,)\n"
     ]
    }
   ],
   "source": [
    "print(x_data.shape)\n",
    "print(y_data.shape)"
   ]
  },
  {
   "cell_type": "code",
   "execution_count": 114,
   "metadata": {},
   "outputs": [],
   "source": [
    "x_train, x_test, y_train, y_test = train_test_split(x_data, y_data, train_size = 0.85)"
   ]
  },
  {
   "cell_type": "markdown",
   "metadata": {},
   "source": [
    "## Adding an extra dimension to the input data since Conv2D layer accepts a 4D tensor as input"
   ]
  },
  {
   "cell_type": "code",
   "execution_count": 115,
   "metadata": {},
   "outputs": [],
   "source": [
    "x_train = x_train.reshape(x_train.shape[0], x_dimm, y_dimm, 1)\n",
    "x_test = x_test.reshape(x_test.shape[0],    x_dimm, y_dimm, 1)"
   ]
  },
  {
   "cell_type": "code",
   "execution_count": 116,
   "metadata": {},
   "outputs": [
    {
     "name": "stdout",
     "output_type": "stream",
     "text": [
      "x_train =  (83881, 3, 21, 1)\n",
      "y_train =  (83881,)\n",
      "x_test  =  (14803, 3, 21, 1)\n",
      "y_train =  (83881,)\n"
     ]
    }
   ],
   "source": [
    "print(\"x_train = \", x_train.shape)\n",
    "print(\"y_train = \",y_train.shape)\n",
    "\n",
    "print(\"x_test  = \",x_test.shape)\n",
    "print(\"y_train = \",y_train.shape)"
   ]
  },
  {
   "cell_type": "markdown",
   "metadata": {},
   "source": [
    "## One-hot encoding the y labels"
   ]
  },
  {
   "cell_type": "code",
   "execution_count": 117,
   "metadata": {},
   "outputs": [],
   "source": [
    "encoder = LabelBinarizer()\n",
    "y_train_cat = encoder.fit_transform(y_train)\n",
    "y_test_cat  = encoder.fit_transform(y_test)"
   ]
  },
  {
   "cell_type": "code",
   "execution_count": 118,
   "metadata": {},
   "outputs": [
    {
     "name": "stdout",
     "output_type": "stream",
     "text": [
      "y_train_cat =  (83881, 11)\n",
      "y_test_cat  =  (14803, 11)\n"
     ]
    }
   ],
   "source": [
    "print(\"y_train_cat = \",y_train_cat.shape)\n",
    "print(\"y_test_cat  = \",y_test_cat.shape)"
   ]
  },
  {
   "cell_type": "markdown",
   "metadata": {},
   "source": [
    "## Creating the baseline model."
   ]
  },
  {
   "cell_type": "code",
   "execution_count": 119,
   "metadata": {},
   "outputs": [],
   "source": [
    "def baseline_model():\n",
    "    model = Sequential()\n",
    "    \n",
    "    model.add(Conv2D(32, \n",
    "                    kernel_size = (3,3),\n",
    "                    activation = 'relu',\n",
    "                    input_shape = x_train.shape[1:]))\n",
    "\n",
    "    model.add(Flatten())\n",
    "    \n",
    "    model.add(Dense(400, activation='relu'))\n",
    "    model.add(Dropout(0.3))\n",
    "    \n",
    "    model.add(Dense(200, activation='relu'))\n",
    "    model.add(Dropout(0.2))\n",
    "    \n",
    "    model.add(Dense(50, activation='relu'))\n",
    "    model.add(Dropout(0.1))\n",
    "    \n",
    "    #output layer\n",
    "    model.add(Dense(num_classes, activation='softmax'))\n",
    "    \n",
    "    model.compile(loss = 'categorical_crossentropy',\n",
    "                 optimizer = 'adam',\n",
    "                 metrics = ['accuracy'])\n",
    "    \n",
    "    print(model.summary())\n",
    "    return model"
   ]
  },
  {
   "cell_type": "code",
   "execution_count": 120,
   "metadata": {},
   "outputs": [
    {
     "name": "stdout",
     "output_type": "stream",
     "text": [
      "Model: \"sequential_15\"\n",
      "_________________________________________________________________\n",
      "Layer (type)                 Output Shape              Param #   \n",
      "=================================================================\n",
      "conv2d_15 (Conv2D)           (None, 1, 19, 32)         320       \n",
      "_________________________________________________________________\n",
      "flatten_5 (Flatten)          (None, 608)               0         \n",
      "_________________________________________________________________\n",
      "dense_12 (Dense)             (None, 400)               243600    \n",
      "_________________________________________________________________\n",
      "dropout_3 (Dropout)          (None, 400)               0         \n",
      "_________________________________________________________________\n",
      "dense_13 (Dense)             (None, 200)               80200     \n",
      "_________________________________________________________________\n",
      "dropout_4 (Dropout)          (None, 200)               0         \n",
      "_________________________________________________________________\n",
      "dense_14 (Dense)             (None, 50)                10050     \n",
      "_________________________________________________________________\n",
      "dropout_5 (Dropout)          (None, 50)                0         \n",
      "_________________________________________________________________\n",
      "dense_15 (Dense)             (None, 11)                561       \n",
      "=================================================================\n",
      "Total params: 334,731\n",
      "Trainable params: 334,731\n",
      "Non-trainable params: 0\n",
      "_________________________________________________________________\n",
      "None\n"
     ]
    }
   ],
   "source": [
    "baseline = baseline_model()"
   ]
  },
  {
   "cell_type": "code",
   "execution_count": 177,
   "metadata": {},
   "outputs": [
    {
     "name": "stdout",
     "output_type": "stream",
     "text": [
      "Epoch 1/50\n",
      "2622/2622 [==============================] - 47s 14ms/step - loss: 0.0623 - accuracy: 0.9812\n",
      "Epoch 2/50\n",
      "2622/2622 [==============================] - 34s 13ms/step - loss: 0.0578 - accuracy: 0.9813\n",
      "Epoch 3/50\n",
      "2622/2622 [==============================] - 33s 13ms/step - loss: 0.0569 - accuracy: 0.9823\n",
      "Epoch 4/50\n",
      "2622/2622 [==============================] - 34s 13ms/step - loss: 0.0572 - accuracy: 0.9819\n",
      "Epoch 5/50\n",
      "2622/2622 [==============================] - 34s 13ms/step - loss: 0.0552 - accuracy: 0.9824\n",
      "Epoch 6/50\n",
      "2622/2622 [==============================] - 34s 13ms/step - loss: 0.0555 - accuracy: 0.9823\n",
      "Epoch 7/50\n",
      "2622/2622 [==============================] - 33s 13ms/step - loss: 0.0520 - accuracy: 0.9834\n",
      "Epoch 8/50\n",
      "2622/2622 [==============================] - 33s 13ms/step - loss: 0.0527 - accuracy: 0.9834\n",
      "Epoch 9/50\n",
      "2622/2622 [==============================] - 34s 13ms/step - loss: 0.0521 - accuracy: 0.9832\n",
      "Epoch 10/50\n",
      "2622/2622 [==============================] - 33s 13ms/step - loss: 0.0518 - accuracy: 0.9839\n",
      "Epoch 11/50\n",
      "2622/2622 [==============================] - 33s 13ms/step - loss: 0.0512 - accuracy: 0.9836\n",
      "Epoch 12/50\n",
      "2622/2622 [==============================] - 34s 13ms/step - loss: 0.0489 - accuracy: 0.9847\n",
      "Epoch 16/50\n",
      "2622/2622 [==============================] - 33s 13ms/step - loss: 0.0473 - accuracy: 0.9854\n",
      "Epoch 17/50\n",
      "2622/2622 [==============================] - 34s 13ms/step - loss: 0.0476 - accuracy: 0.9846\n",
      "Epoch 18/50\n",
      "2622/2622 [==============================] - 33s 13ms/step - loss: 0.0474 - accuracy: 0.9848\n",
      "Epoch 19/50\n",
      "2622/2622 [==============================] - 33s 13ms/step - loss: 0.0462 - accuracy: 0.9853\n",
      "Epoch 20/50\n",
      "2622/2622 [==============================] - 34s 13ms/step - loss: 0.0468 - accuracy: 0.9850\n",
      "Epoch 21/50\n",
      "2622/2622 [==============================] - 35s 13ms/step - loss: 0.0444 - accuracy: 0.9856\n",
      "Epoch 22/50\n",
      "2622/2622 [==============================] - 34s 13ms/step - loss: 0.0451 - accuracy: 0.9855\n",
      "Epoch 23/50\n",
      "2622/2622 [==============================] - 37s 14ms/step - loss: 0.0444 - accuracy: 0.9857\n",
      "Epoch 24/50\n",
      "2622/2622 [==============================] - 32s 12ms/step - loss: 0.0434 - accuracy: 0.9858\n",
      "Epoch 25/50\n",
      "2622/2622 [==============================] - 35s 13ms/step - loss: 0.0439 - accuracy: 0.9861\n",
      "Epoch 26/50\n",
      "2622/2622 [==============================] - 34s 13ms/step - loss: 0.0429 - accuracy: 0.9865\n",
      "Epoch 27/50\n",
      "2622/2622 [==============================] - 33s 12ms/step - loss: 0.0436 - accuracy: 0.9861\n",
      "Epoch 28/50\n",
      "2622/2622 [==============================] - 37s 14ms/step - loss: 0.0430 - accuracy: 0.9865\n",
      "Epoch 29/50\n",
      "2622/2622 [==============================] - 35s 13ms/step - loss: 0.0426 - accuracy: 0.9858\n",
      "Epoch 30/50\n",
      "2622/2622 [==============================] - 34s 13ms/step - loss: 0.0410 - accuracy: 0.9869\n",
      "Epoch 31/50\n",
      "2622/2622 [==============================] - 35s 13ms/step - loss: 0.0421 - accuracy: 0.9864\n",
      "Epoch 32/50\n",
      "2622/2622 [==============================] - 34s 13ms/step - loss: 0.0418 - accuracy: 0.9865\n",
      "Epoch 33/50\n",
      "2622/2622 [==============================] - 35s 13ms/step - loss: 0.0416 - accuracy: 0.9866\n",
      "Epoch 34/50\n",
      "2622/2622 [==============================] - 34s 13ms/step - loss: 0.0388 - accuracy: 0.9875\n",
      "Epoch 35/50\n",
      "2622/2622 [==============================] - 35s 13ms/step - loss: 0.0429 - accuracy: 0.9864\n",
      "Epoch 36/50\n",
      "2622/2622 [==============================] - 35s 13ms/step - loss: 0.0375 - accuracy: 0.9876\n",
      "Epoch 37/50\n",
      "2622/2622 [==============================] - ETA: 0s - loss: 0.0409 - accuracy: 0.98 - 35s 13ms/step - loss: 0.0409 - accuracy: 0.9867\n",
      "Epoch 38/50\n",
      "2622/2622 [==============================] - 35s 13ms/step - loss: 0.0404 - accuracy: 0.9876\n",
      "Epoch 39/50\n",
      "2622/2622 [==============================] - 36s 14ms/step - loss: 0.0400 - accuracy: 0.9876\n",
      "Epoch 40/50\n",
      "2622/2622 [==============================] - 36s 14ms/step - loss: 0.0403 - accuracy: 0.9874\n",
      "Epoch 41/50\n",
      "2622/2622 [==============================] - 36s 14ms/step - loss: 0.0367 - accuracy: 0.9878\n",
      "Epoch 42/50\n",
      "2622/2622 [==============================] - 35s 13ms/step - loss: 0.0398 - accuracy: 0.9872\n",
      "Epoch 43/50\n",
      "2622/2622 [==============================] - 34s 13ms/step - loss: 0.0380 - accuracy: 0.9877\n",
      "Epoch 44/50\n",
      "2622/2622 [==============================] - 35s 13ms/step - loss: 0.0398 - accuracy: 0.9875\n",
      "Epoch 45/50\n",
      "2622/2622 [==============================] - 35s 13ms/step - loss: 0.0368 - accuracy: 0.9880\n",
      "Epoch 46/50\n",
      "2622/2622 [==============================] - 35s 13ms/step - loss: 0.0382 - accuracy: 0.9879\n",
      "Epoch 47/50\n",
      "2622/2622 [==============================] - 34s 13ms/step - loss: 0.0372 - accuracy: 0.9878\n",
      "Epoch 48/50\n",
      "2622/2622 [==============================] - 35s 13ms/step - loss: 0.0385 - accuracy: 0.9879\n",
      "Epoch 49/50\n",
      "2622/2622 [==============================] - 35s 13ms/step - loss: 0.0379 - accuracy: 0.98810s - loss: 0.0379 - accuracy: 0.\n",
      "Epoch 50/50\n",
      "2622/2622 [==============================] - 35s 13ms/step - loss: 0.0368 - accuracy: 0.9883\n"
     ]
    }
   ],
   "source": [
    "baseline_log = baseline.fit(x_train, \n",
    "             y_train_cat, \n",
    "             batch_size = 32, \n",
    "             epochs = epochs, \n",
    "             validation_split = 0.2,\n",
    "             verbose=1)"
   ]
  },
  {
   "cell_type": "markdown",
   "metadata": {},
   "source": [
    "## Function to plot the accuracy and loss of a model"
   ]
  },
  {
   "cell_type": "code",
   "execution_count": 122,
   "metadata": {},
   "outputs": [],
   "source": [
    "def plot_accuracy(model, history):\n",
    "    eval_loss, eval_accuracy = model.evaluate(x_test, y_test_cat, verbose = 0)\n",
    "    #print(history.history['loss'])\n",
    "    print(\"Train loss          = \", history.history['loss'][-1])\n",
    "    print(\"Train accuracy      = \", history.history['accuracy'][-1])\n",
    "    print()\n",
    "    print(\"Validation loss     = \", history.history['val_loss'][-1])\n",
    "    print(\"Validation accuracy = \", history.history['val_accuracy'][-1])\n",
    "    print()\n",
    "    print(\"test loss           = \",eval_loss)\n",
    "    print(\"test accuracy       = \",eval_accuracy)\n",
    "    plt.subplot(2,1,1)\n",
    "    \n",
    "    plt.title('Model Accuracy')\n",
    "    plt.plot(range(epochs), history.history['accuracy'])\n",
    "    plt.plot(range(epochs), history.history['val_accuracy'])\n",
    "\n",
    "    plt.ylabel('Accuracy')\n",
    "    plt.xlabel('Epochs')\n",
    "    plt.legend(['Train', 'Validation'], loc='lower right')\n",
    "\n",
    "    plt.subplot(2,1,2)\n",
    "    plt.title('Model loss')\n",
    "    plt.plot(history.history['loss'])\n",
    "    plt.plot(history.history['val_loss'])\n",
    "\n",
    "    plt.ylabel('Loss')\n",
    "    plt.xlabel('Epochs')\n",
    "    plt.legend(['Train', 'Validation'], loc='lower right')\n",
    "\n",
    "    plt.tight_layout()"
   ]
  },
  {
   "cell_type": "code",
   "execution_count": 123,
   "metadata": {},
   "outputs": [
    {
     "name": "stdout",
     "output_type": "stream",
     "text": [
      "Train loss          =  0.05207665264606476\n",
      "Train accuracy      =  0.9830114245414734\n",
      "\n",
      "Validation loss     =  0.07764984667301178\n",
      "Validation accuracy =  0.9802110195159912\n",
      "\n",
      "test loss           =  0.07859329879283905\n",
      "test accuracy       =  0.9778423309326172\n"
     ]
    },
    {
     "data": {
      "image/png": "[encoded data removed]",
      "text/plain": [
       "<Figure size 432x288 with 2 Axes>"
      ]
     },
     "metadata": {
      "needs_background": "light"
     },
     "output_type": "display_data"
    }
   ],
   "source": [
    "plot_accuracy(baseline, baseline_log)"
   ]
  },
  {
   "cell_type": "code",
   "execution_count": 179,
   "metadata": {},
   "outputs": [],
   "source": [
    "baseline.save(\"baseline.model\", save_format=\"h5\")"
   ]
  }
 ],
 "metadata": {
  "kernelspec": {
   "display_name": "Python 3",
   "language": "python",
   "name": "python3"
  },
  "language_info": {
   "codemirror_mode": {
    "name": "ipython",
    "version": 3
   },
   "file_extension": ".py",
   "mimetype": "text/x-python",
   "name": "python",
   "nbconvert_exporter": "python",
   "pygments_lexer": "ipython3",
   "version": "3.8.5"
  }
 },
 "nbformat": 4,
 "nbformat_minor": 4
}
