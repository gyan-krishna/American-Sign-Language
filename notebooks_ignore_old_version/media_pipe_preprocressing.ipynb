{
 "cells": [
  {
   "cell_type": "code",
   "execution_count": 8,
   "metadata": {},
   "outputs": [],
   "source": [
    "import cv2\n",
    "import mediapipe\n",
    "import os\n",
    "import numpy as np"
   ]
  },
  {
   "cell_type": "code",
   "execution_count": 9,
   "metadata": {},
   "outputs": [],
   "source": [
    "drawingModule = mediapipe.solutions.drawing_utils\n",
    "handsModule = mediapipe.solutions.hands"
   ]
  },
  {
   "cell_type": "code",
   "execution_count": 10,
   "metadata": {},
   "outputs": [],
   "source": [
    "train_path = r'asl_dataset\\asl_alphabet_train\\asl_alphabet_train'\n",
    "train_path = os.path.join(os.getcwd(), train_path)"
   ]
  },
  {
   "cell_type": "code",
   "execution_count": 11,
   "metadata": {},
   "outputs": [],
   "source": [
    "def get_landmarks(frame):\n",
    "    with handsModule.Hands(static_image_mode=False, min_detection_confidence=0.7, min_tracking_confidence=0.7, max_num_hands=2) as hands:\n",
    "        results = hands.process(cv2.cvtColor(frame, cv2.COLOR_BGR2RGB))\n",
    "        \n",
    "        points = []\n",
    "        if results.multi_hand_landmarks != None:\n",
    "           for handLandmarks in results.multi_hand_landmarks:\n",
    "               for point in handsModule.HandLandmark:\n",
    "                   normalizedLandmark = handLandmarks.landmark[point]\n",
    "                   pixelCoordinatesLandmark = drawingModule._normalized_to_pixel_coordinates(normalizedLandmark.x, normalizedLandmark.y, frameWidth, frameHeight)\n",
    "                   #print(pixelCoordinatesLandmark)\n",
    "                   cv2.circle(frame, pixelCoordinatesLandmark, 5, (0, 255, 0), -1)\n",
    "                   points.append(pixelCoordinatesLandmark)\n",
    "        \n",
    "        if(len(points) == 21 or len(points) == 42):\n",
    "            return [True, np.array(points)]\n",
    "        else:\n",
    "            return [False, np.array(points)];\n",
    "        cv2.imshow('Test hand', frame)"
   ]
  },
  {
   "cell_type": "code",
   "execution_count": 18,
   "metadata": {},
   "outputs": [
    {
     "name": "stdout",
     "output_type": "stream",
     "text": [
      "[[486 204]\n",
      " [469 194]\n",
      " [455 183]\n",
      " [443 177]\n",
      " [430 175]\n",
      " [466 169]\n",
      " [474 159]\n",
      " [478 161]\n",
      " [478 165]\n",
      " [474 169]\n",
      " [481 158]\n",
      " [484 161]\n",
      " [485 167]\n",
      " [481 171]\n",
      " [486 160]\n",
      " [488 163]\n",
      " [488 167]\n",
      " [487 174]\n",
      " [489 165]\n",
      " [489 165]\n",
      " [489 168]]\n",
      "[[485 201]\n",
      " [468 191]\n",
      " [453 180]\n",
      " [440 174]\n",
      " [425 172]\n",
      " [464 167]\n",
      " [475 158]\n",
      " [480 159]\n",
      " [481 163]\n",
      " [472 169]\n",
      " [480 158]\n",
      " [486 161]\n",
      " [489 166]\n",
      " [479 171]\n",
      " [485 161]\n",
      " [489 162]\n",
      " [490 166]\n",
      " [486 174]\n",
      " [487 164]\n",
      " [488 164]\n",
      " [489 166]]\n",
      "[[483 196]\n",
      " [465 186]\n",
      " [451 177]\n",
      " [439 171]\n",
      " [424 169]\n",
      " [462 165]\n",
      " [471 156]\n",
      " [476 155]\n",
      " [478 158]\n",
      " [471 166]\n",
      " [477 156]\n",
      " [482 157]\n",
      " [484 161]\n",
      " [478 168]\n",
      " [482 159]\n",
      " [486 159]\n",
      " [488 161]\n",
      " [485 171]\n",
      " [485 162]\n",
      " [487 161]\n",
      " [488 164]]\n",
      "[[477 188]\n",
      " [460 180]\n",
      " [445 171]\n",
      " [433 167]\n",
      " [420 165]\n",
      " [458 165]\n",
      " [466 161]\n",
      " [472 159]\n",
      " [475 160]\n",
      " [468 166]\n",
      " [474 161]\n",
      " [479 160]\n",
      " [482 163]\n",
      " [475 168]\n",
      " [479 161]\n",
      " [483 159]\n",
      " [485 160]\n",
      " [481 170]\n",
      " [483 163]\n",
      " [484 161]\n",
      " [485 162]]\n",
      "4\n"
     ]
    }
   ],
   "source": [
    "categories = os.listdir(train_path)\n",
    "#print(categories)\n",
    "x = 0\n",
    "for category in categories:\n",
    "    path = os.path.join(train_path, category)\n",
    "    for image_path in os.listdir(path):\n",
    "        img = cv2.imread(os.path.join(path, image_path), cv2.IMREAD_GRAYSCALE)\n",
    "        ret, landmarks = get_landmarks(img)\n",
    "        #print(ret, landmarks)\n",
    "        if(ret):\n",
    "            x += 1\n",
    "            print(landmarks)\n",
    "    break"
   ]
  },
  {
   "cell_type": "code",
   "execution_count": null,
   "metadata": {},
   "outputs": [],
   "source": []
  },
  {
   "cell_type": "code",
   "execution_count": null,
   "metadata": {},
   "outputs": [],
   "source": []
  },
  {
   "cell_type": "code",
   "execution_count": null,
   "metadata": {},
   "outputs": [],
   "source": []
  },
  {
   "cell_type": "code",
   "execution_count": null,
   "metadata": {},
   "outputs": [],
   "source": []
  },
  {
   "cell_type": "code",
   "execution_count": null,
   "metadata": {},
   "outputs": [],
   "source": []
  },
  {
   "cell_type": "code",
   "execution_count": 13,
   "metadata": {},
   "outputs": [],
   "source": [
    "cv2.destroyAllWindows()"
   ]
  }
 ],
 "metadata": {
  "kernelspec": {
   "display_name": "Python 3",
   "language": "python",
   "name": "python3"
  },
  "language_info": {
   "codemirror_mode": {
    "name": "ipython",
    "version": 3
   },
   "file_extension": ".py",
   "mimetype": "text/x-python",
   "name": "python",
   "nbconvert_exporter": "python",
   "pygments_lexer": "ipython3",
   "version": "3.8.5"
  }
 },
 "nbformat": 4,
 "nbformat_minor": 4
}
