{
 "cells": [
  {
   "cell_type": "markdown",
   "metadata": {},
   "source": [
    "# [3] American SIgn Language Translator Model - CNN"
   ]
  },
  {
   "cell_type": "markdown",
   "metadata": {},
   "source": [
    "### Installing required libraries"
   ]
  },
  {
   "cell_type": "code",
   "execution_count": 1,
   "metadata": {},
   "outputs": [
    {
     "name": "stdout",
     "output_type": "stream",
     "text": [
      "Requirement already satisfied: graphviz in c:\\programdata\\anaconda3\\lib\\site-packages (0.16)\n",
      "Requirement already satisfied: mediapipe in c:\\programdata\\anaconda3\\lib\\site-packages (0.8.3.1)\n",
      "Requirement already satisfied: wheel in c:\\programdata\\anaconda3\\lib\\site-packages (from mediapipe) (0.35.1)\n",
      "Requirement already satisfied: absl-py in c:\\programdata\\anaconda3\\lib\\site-packages (from mediapipe) (0.12.0)\n",
      "Requirement already satisfied: dataclasses in c:\\programdata\\anaconda3\\lib\\site-packages (from mediapipe) (0.6)\n",
      "Requirement already satisfied: numpy in c:\\programdata\\anaconda3\\lib\\site-packages (from mediapipe) (1.19.2)\n",
      "Requirement already satisfied: protobuf>=3.11.4 in c:\\programdata\\anaconda3\\lib\\site-packages (from mediapipe) (3.15.8)\n",
      "Requirement already satisfied: attrs>=19.1.0 in c:\\programdata\\anaconda3\\lib\\site-packages (from mediapipe) (20.3.0)\n",
      "Requirement already satisfied: six in c:\\programdata\\anaconda3\\lib\\site-packages (from mediapipe) (1.15.0)\n",
      "Requirement already satisfied: opencv-python in c:\\programdata\\anaconda3\\lib\\site-packages (from mediapipe) (4.5.1.48)\n",
      "Requirement already satisfied: opencv-python in c:\\programdata\\anaconda3\\lib\\site-packages (4.5.1.48)\n",
      "Requirement already satisfied: numpy>=1.17.3 in c:\\programdata\\anaconda3\\lib\\site-packages (from opencv-python) (1.19.2)\n",
      "Requirement already satisfied: tensorflow in c:\\programdata\\anaconda3\\lib\\site-packages (2.4.1)\n",
      "Requirement already satisfied: typing-extensions~=3.7.4 in c:\\programdata\\anaconda3\\lib\\site-packages (from tensorflow) (3.7.4.3)\n",
      "Requirement already satisfied: astunparse~=1.6.3 in c:\\programdata\\anaconda3\\lib\\site-packages (from tensorflow) (1.6.3)\n",
      "Requirement already satisfied: flatbuffers~=1.12.0 in c:\\programdata\\anaconda3\\lib\\site-packages (from tensorflow) (1.12)\n",
      "Requirement already satisfied: protobuf>=3.9.2 in c:\\programdata\\anaconda3\\lib\\site-packages (from tensorflow) (3.15.8)\n",
      "Requirement already satisfied: absl-py~=0.10 in c:\\programdata\\anaconda3\\lib\\site-packages (from tensorflow) (0.12.0)\n",
      "Requirement already satisfied: h5py~=2.10.0 in c:\\programdata\\anaconda3\\lib\\site-packages (from tensorflow) (2.10.0)\n",
      "Requirement already satisfied: keras-preprocessing~=1.1.2 in c:\\programdata\\anaconda3\\lib\\site-packages (from tensorflow) (1.1.2)\n",
      "Requirement already satisfied: termcolor~=1.1.0 in c:\\programdata\\anaconda3\\lib\\site-packages (from tensorflow) (1.1.0)\n",
      "Requirement already satisfied: wheel~=0.35 in c:\\programdata\\anaconda3\\lib\\site-packages (from tensorflow) (0.35.1)\n",
      "Requirement already satisfied: tensorflow-estimator<2.5.0,>=2.4.0 in c:\\programdata\\anaconda3\\lib\\site-packages (from tensorflow) (2.4.0)\n",
      "Requirement already satisfied: gast==0.3.3 in c:\\programdata\\anaconda3\\lib\\site-packages (from tensorflow) (0.3.3)\n",
      "Requirement already satisfied: opt-einsum~=3.3.0 in c:\\programdata\\anaconda3\\lib\\site-packages (from tensorflow) (3.3.0)\n",
      "Requirement already satisfied: numpy~=1.19.2 in c:\\programdata\\anaconda3\\lib\\site-packages (from tensorflow) (1.19.2)\n",
      "Requirement already satisfied: grpcio~=1.32.0 in c:\\programdata\\anaconda3\\lib\\site-packages (from tensorflow) (1.32.0)\n",
      "Requirement already satisfied: wrapt~=1.12.1 in c:\\programdata\\anaconda3\\lib\\site-packages (from tensorflow) (1.12.1)\n",
      "Requirement already satisfied: google-pasta~=0.2 in c:\\programdata\\anaconda3\\lib\\site-packages (from tensorflow) (0.2.0)\n",
      "Requirement already satisfied: tensorboard~=2.4 in c:\\programdata\\anaconda3\\lib\\site-packages (from tensorflow) (2.4.1)\n",
      "Requirement already satisfied: six~=1.15.0 in c:\\programdata\\anaconda3\\lib\\site-packages (from tensorflow) (1.15.0)\n",
      "Requirement already satisfied: tensorboard-plugin-wit>=1.6.0 in c:\\programdata\\anaconda3\\lib\\site-packages (from tensorboard~=2.4->tensorflow) (1.8.0)\n",
      "Requirement already satisfied: setuptools>=41.0.0 in c:\\programdata\\anaconda3\\lib\\site-packages (from tensorboard~=2.4->tensorflow) (50.3.1.post20201107)\n",
      "Requirement already satisfied: werkzeug>=0.11.15 in c:\\programdata\\anaconda3\\lib\\site-packages (from tensorboard~=2.4->tensorflow) (1.0.1)\n",
      "Requirement already satisfied: google-auth-oauthlib<0.5,>=0.4.1 in c:\\programdata\\anaconda3\\lib\\site-packages (from tensorboard~=2.4->tensorflow) (0.4.4)\n",
      "Requirement already satisfied: google-auth<2,>=1.6.3 in c:\\programdata\\anaconda3\\lib\\site-packages (from tensorboard~=2.4->tensorflow) (1.29.0)\n",
      "Requirement already satisfied: requests<3,>=2.21.0 in c:\\programdata\\anaconda3\\lib\\site-packages (from tensorboard~=2.4->tensorflow) (2.24.0)\n",
      "Requirement already satisfied: markdown>=2.6.8 in c:\\programdata\\anaconda3\\lib\\site-packages (from tensorboard~=2.4->tensorflow) (3.3.4)\n",
      "Requirement already satisfied: requests-oauthlib>=0.7.0 in c:\\programdata\\anaconda3\\lib\\site-packages (from google-auth-oauthlib<0.5,>=0.4.1->tensorboard~=2.4->tensorflow) (1.3.0)\n",
      "Requirement already satisfied: cachetools<5.0,>=2.0.0 in c:\\programdata\\anaconda3\\lib\\site-packages (from google-auth<2,>=1.6.3->tensorboard~=2.4->tensorflow) (4.2.1)\n",
      "Requirement already satisfied: pyasn1-modules>=0.2.1 in c:\\programdata\\anaconda3\\lib\\site-packages (from google-auth<2,>=1.6.3->tensorboard~=2.4->tensorflow) (0.2.8)\n",
      "Requirement already satisfied: rsa<5,>=3.1.4; python_version >= \"3.6\" in c:\\programdata\\anaconda3\\lib\\site-packages (from google-auth<2,>=1.6.3->tensorboard~=2.4->tensorflow) (4.7.2)\n",
      "Requirement already satisfied: certifi>=2017.4.17 in c:\\programdata\\anaconda3\\lib\\site-packages (from requests<3,>=2.21.0->tensorboard~=2.4->tensorflow) (2021.5.30)\n",
      "Requirement already satisfied: chardet<4,>=3.0.2 in c:\\programdata\\anaconda3\\lib\\site-packages (from requests<3,>=2.21.0->tensorboard~=2.4->tensorflow) (3.0.4)\n",
      "Requirement already satisfied: urllib3!=1.25.0,!=1.25.1,<1.26,>=1.21.1 in c:\\programdata\\anaconda3\\lib\\site-packages (from requests<3,>=2.21.0->tensorboard~=2.4->tensorflow) (1.25.11)\n",
      "Requirement already satisfied: idna<3,>=2.5 in c:\\programdata\\anaconda3\\lib\\site-packages (from requests<3,>=2.21.0->tensorboard~=2.4->tensorflow) (2.10)\n",
      "Requirement already satisfied: oauthlib>=3.0.0 in c:\\programdata\\anaconda3\\lib\\site-packages (from requests-oauthlib>=0.7.0->google-auth-oauthlib<0.5,>=0.4.1->tensorboard~=2.4->tensorflow) (3.1.0)\n",
      "Requirement already satisfied: pyasn1<0.5.0,>=0.4.6 in c:\\programdata\\anaconda3\\lib\\site-packages (from pyasn1-modules>=0.2.1->google-auth<2,>=1.6.3->tensorboard~=2.4->tensorflow) (0.4.8)\n",
      "Requirement already satisfied: keras in c:\\programdata\\anaconda3\\lib\\site-packages (2.4.3)\n",
      "Requirement already satisfied: numpy>=1.9.1 in c:\\programdata\\anaconda3\\lib\\site-packages (from keras) (1.19.2)\n",
      "Requirement already satisfied: h5py in c:\\programdata\\anaconda3\\lib\\site-packages (from keras) (2.10.0)\n",
      "Requirement already satisfied: scipy>=0.14 in c:\\programdata\\anaconda3\\lib\\site-packages (from keras) (1.5.2)\n",
      "Requirement already satisfied: pyyaml in c:\\programdata\\anaconda3\\lib\\site-packages (from keras) (5.3.1)\n",
      "Requirement already satisfied: six in c:\\programdata\\anaconda3\\lib\\site-packages (from h5py->keras) (1.15.0)\n",
      "Requirement already satisfied: tqdm in c:\\programdata\\anaconda3\\lib\\site-packages (4.50.2)\n",
      "Requirement already satisfied: scikit-learn in c:\\programdata\\anaconda3\\lib\\site-packages (0.23.2)\n",
      "Requirement already satisfied: numpy>=1.13.3 in c:\\programdata\\anaconda3\\lib\\site-packages (from scikit-learn) (1.19.2)\n",
      "Requirement already satisfied: threadpoolctl>=2.0.0 in c:\\programdata\\anaconda3\\lib\\site-packages (from scikit-learn) (2.1.0)\n",
      "Requirement already satisfied: scipy>=0.19.1 in c:\\programdata\\anaconda3\\lib\\site-packages (from scikit-learn) (1.5.2)\n",
      "Requirement already satisfied: joblib>=0.11 in c:\\programdata\\anaconda3\\lib\\site-packages (from scikit-learn) (0.17.0)\n",
      "Requirement already satisfied: seaborn in c:\\programdata\\anaconda3\\lib\\site-packages (0.11.0)\n",
      "Requirement already satisfied: numpy>=1.15 in c:\\programdata\\anaconda3\\lib\\site-packages (from seaborn) (1.19.2)\n",
      "Requirement already satisfied: pandas>=0.23 in c:\\programdata\\anaconda3\\lib\\site-packages (from seaborn) (1.1.3)\n",
      "Requirement already satisfied: matplotlib>=2.2 in c:\\programdata\\anaconda3\\lib\\site-packages (from seaborn) (3.3.2)\n",
      "Requirement already satisfied: scipy>=1.0 in c:\\programdata\\anaconda3\\lib\\site-packages (from seaborn) (1.5.2)\n",
      "Requirement already satisfied: pytz>=2017.2 in c:\\programdata\\anaconda3\\lib\\site-packages (from pandas>=0.23->seaborn) (2020.1)\n",
      "Requirement already satisfied: python-dateutil>=2.7.3 in c:\\programdata\\anaconda3\\lib\\site-packages (from pandas>=0.23->seaborn) (2.8.1)\n",
      "Requirement already satisfied: cycler>=0.10 in c:\\programdata\\anaconda3\\lib\\site-packages (from matplotlib>=2.2->seaborn) (0.10.0)\n",
      "Requirement already satisfied: pillow>=6.2.0 in c:\\programdata\\anaconda3\\lib\\site-packages (from matplotlib>=2.2->seaborn) (8.0.1)\n",
      "Requirement already satisfied: kiwisolver>=1.0.1 in c:\\programdata\\anaconda3\\lib\\site-packages (from matplotlib>=2.2->seaborn) (1.3.0)\n",
      "Requirement already satisfied: pyparsing!=2.0.4,!=2.1.2,!=2.1.6,>=2.0.3 in c:\\programdata\\anaconda3\\lib\\site-packages (from matplotlib>=2.2->seaborn) (2.4.7)\n",
      "Requirement already satisfied: certifi>=2020.06.20 in c:\\programdata\\anaconda3\\lib\\site-packages (from matplotlib>=2.2->seaborn) (2021.5.30)\n",
      "Requirement already satisfied: six>=1.5 in c:\\programdata\\anaconda3\\lib\\site-packages (from python-dateutil>=2.7.3->pandas>=0.23->seaborn) (1.15.0)\n"
     ]
    }
   ],
   "source": [
    "!pip install graphviz\n",
    "!pip install mediapipe\n",
    "!pip install opencv-python\n",
    "!pip install tensorflow\n",
    "!pip install keras\n",
    "!pip install tqdm\n",
    "!pip install scikit-learn\n",
    "!pip install seaborn"
   ]
  },
  {
   "cell_type": "markdown",
   "metadata": {},
   "source": [
    "### Importing necessary libraries"
   ]
  },
  {
   "cell_type": "code",
   "execution_count": 2,
   "metadata": {},
   "outputs": [],
   "source": [
    "from keras.models import Sequential\n",
    "from keras.layers import Dense, Flatten, Dropout\n",
    "from keras.layers import Conv2D\n",
    "from keras_visualizer import visualizer\n",
    "\n",
    "from keras.utils import plot_model\n",
    "#from keras.callbacks import Callback\n",
    "from sklearn.preprocessing import LabelBinarizer\n",
    "from sklearn.model_selection import train_test_split\n",
    "from sklearn.metrics import confusion_matrix, plot_confusion_matrix\n",
    "\n",
    "import tensorflow as tf\n",
    "from tensorflow.python.client import device_lib\n",
    "import matplotlib.pyplot as plt\n",
    "import seaborn as sns\n",
    "import numpy as np\n",
    "from tqdm import tqdm "
   ]
  },
  {
   "cell_type": "markdown",
   "metadata": {},
   "source": [
    "### Verifying GPU is being used and configured"
   ]
  },
  {
   "cell_type": "code",
   "execution_count": 3,
   "metadata": {},
   "outputs": [
    {
     "name": "stdout",
     "output_type": "stream",
     "text": [
      "Num GPUs Available:  1\n",
      "[PhysicalDevice(name='/physical_device:GPU:0', device_type='GPU')]\n"
     ]
    }
   ],
   "source": [
    "print(\"Num GPUs Available: \", len(tf.config.list_physical_devices('GPU')))\n",
    "print(tf.config.list_physical_devices('GPU'))"
   ]
  },
  {
   "cell_type": "code",
   "execution_count": 4,
   "metadata": {},
   "outputs": [
    {
     "data": {
      "text/plain": [
       "[name: \"/device:CPU:0\"\n",
       " device_type: \"CPU\"\n",
       " memory_limit: 268435456\n",
       " locality {\n",
       " }\n",
       " incarnation: 15589518651998135226,\n",
       " name: \"/device:GPU:0\"\n",
       " device_type: \"GPU\"\n",
       " memory_limit: 3044750132\n",
       " locality {\n",
       "   bus_id: 1\n",
       "   links {\n",
       "   }\n",
       " }\n",
       " incarnation: 6166110882352823361\n",
       " physical_device_desc: \"device: 0, name: NVIDIA GeForce GTX 1650, pci bus id: 0000:01:00.0, compute capability: 7.5\"]"
      ]
     },
     "execution_count": 4,
     "metadata": {},
     "output_type": "execute_result"
    }
   ],
   "source": [
    "device_lib.list_local_devices()"
   ]
  },
  {
   "cell_type": "markdown",
   "metadata": {},
   "source": [
    "### Creating labels for the categories"
   ]
  },
  {
   "cell_type": "code",
   "execution_count": 5,
   "metadata": {},
   "outputs": [],
   "source": [
    "y_labels = ['A', 'B', 'C', 'D', 'E', \n",
    "            'F', 'G', 'H', 'I', 'J', \n",
    "            'K', 'L', 'M', 'N', 'O', \n",
    "            'P', 'Q', 'R', 'S', 'T', \n",
    "            'U', 'V', 'W', 'X', 'Y', \n",
    "            'Z']"
   ]
  },
  {
   "cell_type": "markdown",
   "metadata": {},
   "source": [
    "### Trainning hyper parameters"
   ]
  },
  {
   "cell_type": "code",
   "execution_count": 6,
   "metadata": {},
   "outputs": [],
   "source": [
    "batch_size = 128\n",
    "epochs = 25\n",
    "num_classes = 26"
   ]
  },
  {
   "cell_type": "markdown",
   "metadata": {},
   "source": [
    "### Loading the landmark datasets"
   ]
  },
  {
   "cell_type": "code",
   "execution_count": 7,
   "metadata": {},
   "outputs": [],
   "source": [
    "x_data = np.load('x_data.npy')\n",
    "y_data = np.load('y_data.npy')\n",
    "x_dimm, y_dimm = x_data.shape[1:]"
   ]
  },
  {
   "cell_type": "markdown",
   "metadata": {},
   "source": [
    "### Printing shape of the loaded data to verify everything is fine"
   ]
  },
  {
   "cell_type": "code",
   "execution_count": 8,
   "metadata": {},
   "outputs": [
    {
     "name": "stdout",
     "output_type": "stream",
     "text": [
      "(231276, 7, 9)\n",
      "(231276,)\n",
      "7 9\n"
     ]
    }
   ],
   "source": [
    "print(x_data.shape)\n",
    "print(y_data.shape)\n",
    "print(x_dimm, y_dimm)"
   ]
  },
  {
   "cell_type": "markdown",
   "metadata": {},
   "source": [
    "### Shuffling and splitting the data into trainning and testing data"
   ]
  },
  {
   "cell_type": "code",
   "execution_count": 9,
   "metadata": {},
   "outputs": [],
   "source": [
    "\n",
    "x_train, x_test, y_train, y_test = train_test_split(x_data, \n",
    "                                                    y_data, \n",
    "                                                    train_size = 0.90)"
   ]
  },
  {
   "cell_type": "markdown",
   "metadata": {},
   "source": [
    "### Adding an extra dimension to the input data since Conv2D layer accepts a 4D tensor as input"
   ]
  },
  {
   "cell_type": "code",
   "execution_count": 10,
   "metadata": {},
   "outputs": [],
   "source": [
    "x_train = x_train.reshape(x_train.shape[0], x_dimm, y_dimm, 1)\n",
    "x_test = x_test.reshape(x_test.shape[0],    x_dimm, y_dimm, 1)"
   ]
  },
  {
   "cell_type": "code",
   "execution_count": 11,
   "metadata": {},
   "outputs": [
    {
     "name": "stdout",
     "output_type": "stream",
     "text": [
      "x_train =  (208148, 7, 9, 1)\n",
      "y_train =  (208148,)\n",
      "x_test  =  (23128, 7, 9, 1)\n",
      "y_train =  (208148,)\n"
     ]
    }
   ],
   "source": [
    "print(\"x_train = \", x_train.shape)\n",
    "print(\"y_train = \",y_train.shape)\n",
    "\n",
    "print(\"x_test  = \",x_test.shape)\n",
    "print(\"y_train = \",y_train.shape)"
   ]
  },
  {
   "cell_type": "markdown",
   "metadata": {},
   "source": [
    "## One-hot encoding the y labels\n",
    "Converting the labels into categorical data "
   ]
  },
  {
   "cell_type": "code",
   "execution_count": 12,
   "metadata": {},
   "outputs": [
    {
     "name": "stdout",
     "output_type": "stream",
     "text": [
      "y_train_cat =  (208148, 26)\n",
      "y_test_cat  =  (23128, 26)\n"
     ]
    }
   ],
   "source": [
    "encoder = LabelBinarizer()\n",
    "y_train_cat = encoder.fit_transform(y_train)\n",
    "y_test_cat  = encoder.fit_transform(y_test)\n",
    "\n",
    "print(\"y_train_cat = \",y_train_cat.shape)\n",
    "print(\"y_test_cat  = \",y_test_cat.shape)"
   ]
  },
  {
   "cell_type": "markdown",
   "metadata": {},
   "source": [
    "## Creating the baseline model."
   ]
  },
  {
   "cell_type": "code",
   "execution_count": 13,
   "metadata": {},
   "outputs": [],
   "source": [
    "def baseline_model():\n",
    "    model = Sequential()\n",
    "    \n",
    "    #convoltional layer\n",
    "    model.add(Conv2D(32, \n",
    "                    kernel_size = (3,3),\n",
    "                    activation = 'relu',\n",
    "                    input_shape = x_train.shape[1:]))\n",
    "    model.add(Flatten())\n",
    "    \n",
    "    #dense layer 1\n",
    "    model.add(Dense(400, activation='relu'))\n",
    "    model.add(Dropout(0.4))\n",
    "    \n",
    "    #dense layer 2\n",
    "    model.add(Dense(200, activation='relu'))\n",
    "    model.add(Dropout(0.4))\n",
    "    \n",
    "    #dense layer 3\n",
    "    model.add(Dense(50, activation='relu'))\n",
    "    model.add(Dropout(0.4))\n",
    "    \n",
    "    #output layer\n",
    "    model.add(Dense(num_classes, activation='softmax'))\n",
    "    \n",
    "    # compiling the model\n",
    "    model.compile(loss = 'categorical_crossentropy',\n",
    "                 optimizer = 'adam',\n",
    "                 metrics = ['accuracy'])\n",
    "    \n",
    "    # displaying the summary of the model\n",
    "    print(model.summary())\n",
    "    return model"
   ]
  },
  {
   "cell_type": "code",
   "execution_count": 14,
   "metadata": {},
   "outputs": [
    {
     "name": "stdout",
     "output_type": "stream",
     "text": [
      "Model: \"sequential\"\n",
      "_________________________________________________________________\n",
      "Layer (type)                 Output Shape              Param #   \n",
      "=================================================================\n",
      "conv2d (Conv2D)              (None, 5, 7, 32)          320       \n",
      "_________________________________________________________________\n",
      "flatten (Flatten)            (None, 1120)              0         \n",
      "_________________________________________________________________\n",
      "dense (Dense)                (None, 400)               448400    \n",
      "_________________________________________________________________\n",
      "dropout (Dropout)            (None, 400)               0         \n",
      "_________________________________________________________________\n",
      "dense_1 (Dense)              (None, 200)               80200     \n",
      "_________________________________________________________________\n",
      "dropout_1 (Dropout)          (None, 200)               0         \n",
      "_________________________________________________________________\n",
      "dense_2 (Dense)              (None, 50)                10050     \n",
      "_________________________________________________________________\n",
      "dropout_2 (Dropout)          (None, 50)                0         \n",
      "_________________________________________________________________\n",
      "dense_3 (Dense)              (None, 26)                1326      \n",
      "=================================================================\n",
      "Total params: 540,296\n",
      "Trainable params: 540,296\n",
      "Non-trainable params: 0\n",
      "_________________________________________________________________\n",
      "None\n"
     ]
    }
   ],
   "source": [
    "baseline = baseline_model()"
   ]
  },
  {
   "cell_type": "markdown",
   "metadata": {},
   "source": [
    "### Trainning the baseline model"
   ]
  },
  {
   "cell_type": "code",
   "execution_count": 15,
   "metadata": {},
   "outputs": [
    {
     "name": "stdout",
     "output_type": "stream",
     "text": [
      "Epoch 1/25\n",
      "1301/1301 [==============================] - 18s 8ms/step - loss: 2.0163 - accuracy: 0.3726 - val_loss: 0.4738 - val_accuracy: 0.8584\n",
      "Epoch 2/25\n",
      "1301/1301 [==============================] - 8s 6ms/step - loss: 0.6661 - accuracy: 0.7981 - val_loss: 0.3314 - val_accuracy: 0.9062\n",
      "Epoch 3/25\n",
      "1301/1301 [==============================] - 9s 7ms/step - loss: 0.5079 - accuracy: 0.8555 - val_loss: 0.2721 - val_accuracy: 0.9213\n",
      "Epoch 4/25\n",
      "1301/1301 [==============================] - 8s 6ms/step - loss: 0.4370 - accuracy: 0.8778 - val_loss: 0.2435 - val_accuracy: 0.9301\n",
      "Epoch 5/25\n",
      "1301/1301 [==============================] - 8s 6ms/step - loss: 0.3896 - accuracy: 0.8920 - val_loss: 0.2324 - val_accuracy: 0.9311\n",
      "Epoch 6/25\n",
      "1301/1301 [==============================] - 8s 6ms/step - loss: 0.3633 - accuracy: 0.9000 - val_loss: 0.2298 - val_accuracy: 0.9324\n",
      "Epoch 7/25\n",
      "1301/1301 [==============================] - 8s 6ms/step - loss: 0.3427 - accuracy: 0.9068 - val_loss: 0.2118 - val_accuracy: 0.9374\n",
      "Epoch 8/25\n",
      "1301/1301 [==============================] - 8s 6ms/step - loss: 0.3210 - accuracy: 0.9118 - val_loss: 0.1992 - val_accuracy: 0.9424\n",
      "Epoch 9/25\n",
      "1301/1301 [==============================] - 8s 6ms/step - loss: 0.3087 - accuracy: 0.9149 - val_loss: 0.1947 - val_accuracy: 0.9431\n",
      "Epoch 10/25\n",
      "1301/1301 [==============================] - 9s 7ms/step - loss: 0.2976 - accuracy: 0.9183 - val_loss: 0.1859 - val_accuracy: 0.9467\n",
      "Epoch 11/25\n",
      "1301/1301 [==============================] - 9s 7ms/step - loss: 0.2846 - accuracy: 0.9217 - val_loss: 0.2016 - val_accuracy: 0.9403\n",
      "Epoch 12/25\n",
      "1301/1301 [==============================] - 9s 7ms/step - loss: 0.2844 - accuracy: 0.9215 - val_loss: 0.1775 - val_accuracy: 0.9480\n",
      "Epoch 13/25\n",
      "1301/1301 [==============================] - 8s 6ms/step - loss: 0.2729 - accuracy: 0.9252 - val_loss: 0.1713 - val_accuracy: 0.9507\n",
      "Epoch 14/25\n",
      "1301/1301 [==============================] - 9s 7ms/step - loss: 0.2684 - accuracy: 0.9255 - val_loss: 0.1739 - val_accuracy: 0.9500\n",
      "Epoch 15/25\n",
      "1301/1301 [==============================] - 9s 7ms/step - loss: 0.2593 - accuracy: 0.9294 - val_loss: 0.1633 - val_accuracy: 0.9529\n",
      "Epoch 16/25\n",
      "1301/1301 [==============================] - 8s 6ms/step - loss: 0.2515 - accuracy: 0.9302 - val_loss: 0.1669 - val_accuracy: 0.9517\n",
      "Epoch 17/25\n",
      "1301/1301 [==============================] - 8s 6ms/step - loss: 0.2536 - accuracy: 0.9306 - val_loss: 0.1688 - val_accuracy: 0.9520\n",
      "Epoch 18/25\n",
      "1301/1301 [==============================] - 8s 6ms/step - loss: 0.2459 - accuracy: 0.9318 - val_loss: 0.1674 - val_accuracy: 0.9516\n",
      "Epoch 19/25\n",
      "1301/1301 [==============================] - 8s 6ms/step - loss: 0.2417 - accuracy: 0.9334 - val_loss: 0.1569 - val_accuracy: 0.9553\n",
      "Epoch 20/25\n",
      "1301/1301 [==============================] - 8s 6ms/step - loss: 0.2429 - accuracy: 0.9326 - val_loss: 0.1627 - val_accuracy: 0.9533\n",
      "Epoch 21/25\n",
      "1301/1301 [==============================] - 8s 6ms/step - loss: 0.2348 - accuracy: 0.9350 - val_loss: 0.1590 - val_accuracy: 0.9547\n",
      "Epoch 22/25\n",
      "1301/1301 [==============================] - 8s 6ms/step - loss: 0.2312 - accuracy: 0.9358 - val_loss: 0.1541 - val_accuracy: 0.9558\n",
      "Epoch 23/25\n",
      "1301/1301 [==============================] - 8s 6ms/step - loss: 0.2266 - accuracy: 0.9369 - val_loss: 0.1556 - val_accuracy: 0.9552\n",
      "Epoch 24/25\n",
      "1301/1301 [==============================] - 8s 6ms/step - loss: 0.2251 - accuracy: 0.9370 - val_loss: 0.1523 - val_accuracy: 0.9559\n",
      "Epoch 25/25\n",
      "1301/1301 [==============================] - 8s 6ms/step - loss: 0.2230 - accuracy: 0.9383 - val_loss: 0.1542 - val_accuracy: 0.9568\n"
     ]
    }
   ],
   "source": [
    "baseline_log = baseline.fit(x_train, # x data for trainning\n",
    "             y_train_cat,            # y data for trainning \n",
    "             batch_size = batch_size,# batch size for trainning\n",
    "             epochs = epochs,        # number of epochs\n",
    "             validation_split = 0.2, # 20% of input data goes for validation\n",
    "             verbose=1)              # show detailed stats of trainning"
   ]
  },
  {
   "cell_type": "markdown",
   "metadata": {},
   "source": [
    "### Function to plot the accuracy and loss of a model"
   ]
  },
  {
   "cell_type": "code",
   "execution_count": 16,
   "metadata": {},
   "outputs": [],
   "source": [
    "def plot_accuracy(model, history):\n",
    "    # running the model on the testing dataset\n",
    "    eval_loss, eval_accuracy = model.evaluate(x_test, \n",
    "                                              y_test_cat, \n",
    "                                              verbose = 0)\n",
    "    \n",
    "    # displaying trainning accuracy and loss\n",
    "    print(\"Train loss          = \", history.history['loss'][-1]*100)\n",
    "    print(\"Train accuracy      = \", history.history['accuracy'][-1]*100)\n",
    "    print()\n",
    "    \n",
    "    # displaying validation accuracy and loss\n",
    "    print(\"Validation loss     = \", history.history['val_loss'][-1]*100)\n",
    "    print(\"Validation accuracy = \", history.history['val_accuracy'][-1]*100)\n",
    "    print()\n",
    "    \n",
    "    # displaying the trainning accuracy and loss\n",
    "    print(\"test loss           = \",eval_loss*100)\n",
    "    print(\"test accuracy       = \",eval_accuracy*100)\n",
    "    \n",
    "    # creating sub plots for accuracy and loss\n",
    "    plt.subplot(2,1,1)\n",
    "    \n",
    "    # plotting model accuracy\n",
    "    plt.title('Model Accuracy')\n",
    "    plt.plot(range(epochs), history.history['accuracy'])\n",
    "    plt.plot(range(epochs), history.history['val_accuracy'])\n",
    "    \n",
    "    plt.ylabel('Accuracy')\n",
    "    plt.xlabel('Epochs')\n",
    "    plt.legend(['Train', 'Validation'], loc='lower right')\n",
    "    \n",
    "    # plotting model loss\n",
    "    plt.subplot(2,1,2)\n",
    "    plt.title('Model loss')\n",
    "    plt.plot(history.history['loss'])\n",
    "    plt.plot(history.history['val_loss'])\n",
    "\n",
    "    plt.ylabel('Loss')\n",
    "    plt.xlabel('Epochs')\n",
    "    plt.legend(['Train', 'Validation'], loc='lower right')\n",
    "\n",
    "    plt.tight_layout()"
   ]
  },
  {
   "cell_type": "markdown",
   "metadata": {},
   "source": [
    "### Plotting the accuracy of the baseline model"
   ]
  },
  {
   "cell_type": "code",
   "execution_count": 17,
   "metadata": {},
   "outputs": [
    {
     "name": "stdout",
     "output_type": "stream",
     "text": [
      "Train loss          =  22.362948954105377\n",
      "Train accuracy      =  93.80847811698914\n",
      "\n",
      "Validation loss     =  15.423917770385742\n",
      "Validation accuracy =  95.67619562149048\n",
      "\n",
      "test loss           =  15.354593098163605\n",
      "test accuracy       =  95.4730212688446\n"
     ]
    },
    {
     "data": {
      "image/png": "[encoded data removed]",
      "text/plain": [
       "<Figure size 432x288 with 2 Axes>"
      ]
     },
     "metadata": {
      "needs_background": "light"
     },
     "output_type": "display_data"
    }
   ],
   "source": [
    "plot_accuracy(baseline, baseline_log)"
   ]
  },
  {
   "cell_type": "markdown",
   "metadata": {},
   "source": [
    "### Creating confusion matrix\n",
    "Generating a confusion matrix to make sure that the model\n",
    "is not getting confused among similar signs, like a and s"
   ]
  },
  {
   "cell_type": "code",
   "execution_count": 19,
   "metadata": {
    "tags": []
   },
   "outputs": [],
   "source": [
    "y_prediction = np.argmax( baseline.predict(x_test), axis = 1)\n",
    "y_testing   = np.argmax( y_test_cat, axis = 1)\n",
    "\n",
    "conf_mat = confusion_matrix( y_testing, y_prediction, normalize = 'true')"
   ]
  },
  {
   "cell_type": "markdown",
   "metadata": {},
   "source": [
    "### Plotting the confuision matrix"
   ]
  },
  {
   "cell_type": "code",
   "execution_count": 20,
   "metadata": {},
   "outputs": [
    {
     "data": {
      "text/plain": [
       "<AxesSubplot:>"
      ]
     },
     "execution_count": 20,
     "metadata": {},
     "output_type": "execute_result"
    },
    {
     "data": {
      "image/png": "[encoded data removed]",
      "text/plain": [
       "<Figure size 576x576 with 2 Axes>"
      ]
     },
     "metadata": {
      "needs_background": "light"
     },
     "output_type": "display_data"
    }
   ],
   "source": [
    "plt.subplots(figsize=(8,8))\n",
    "sns.heatmap(conf_mat,\n",
    "           cmap = \"Blues\")"
   ]
  },
  {
   "cell_type": "markdown",
   "metadata": {},
   "source": [
    "### Saving the model"
   ]
  },
  {
   "cell_type": "code",
   "execution_count": 21,
   "metadata": {},
   "outputs": [],
   "source": [
    "baseline.save(\"baseline.model\", save_format=\"h5\")"
   ]
  }
 ],
 "metadata": {
  "kernelspec": {
   "display_name": "Python 3",
   "language": "python",
   "name": "python3"
  },
  "language_info": {
   "codemirror_mode": {
    "name": "ipython",
    "version": 3
   },
   "file_extension": ".py",
   "mimetype": "text/x-python",
   "name": "python",
   "nbconvert_exporter": "python",
   "pygments_lexer": "ipython3",
   "version": "3.8.5"
  }
 },
 "nbformat": 4,
 "nbformat_minor": 4
}
