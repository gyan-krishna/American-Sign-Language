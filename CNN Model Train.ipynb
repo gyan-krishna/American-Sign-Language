{
 "cells": [
  {
   "cell_type": "markdown",
   "metadata": {},
   "source": [
    "# [3] American SIgn Language Translator Model - CNN"
   ]
  },
  {
   "cell_type": "markdown",
   "metadata": {},
   "source": [
    "### Installing required libraries"
   ]
  },
  {
   "cell_type": "code",
   "execution_count": 22,
   "metadata": {},
   "outputs": [
    {
     "name": "stdout",
     "output_type": "stream",
     "text": [
      "Requirement already satisfied: graphviz in c:\\programdata\\anaconda3\\lib\\site-packages (0.16)\n"
     ]
    }
   ],
   "source": [
    "!pip install graphviz\n",
    "!pip install mediapipe\n",
    "!pip install opencv-python\n",
    "!pip install tensorflow\n",
    "!pip install keras\n",
    "!pip install tqdm\n",
    "!pip install scikit-learn\n",
    "!pip install seaborn"
   ]
  },
  {
   "cell_type": "markdown",
   "metadata": {},
   "source": [
    "### Importing necessary libraries"
   ]
  },
  {
   "cell_type": "code",
   "execution_count": 71,
   "metadata": {},
   "outputs": [],
   "source": [
    "from keras.models import Sequential\n",
    "from keras.layers import Dense, Flatten, Dropout\n",
    "from keras.layers import Conv2D\n",
    "from keras_visualizer import visualizer\n",
    "\n",
    "from keras.utils import plot_model\n",
    "#from keras.callbacks import Callback\n",
    "from sklearn.preprocessing import LabelBinarizer\n",
    "from sklearn.model_selection import train_test_split\n",
    "from sklearn.metrics import confusion_matrix, plot_confusion_matrix\n",
    "\n",
    "import tensorflow as tf\n",
    "from tensorflow.python.client import device_lib\n",
    "import matplotlib.pyplot as plt\n",
    "import seaborn as sns\n",
    "import numpy as np\n",
    "from tqdm import tqdm "
   ]
  },
  {
   "cell_type": "markdown",
   "metadata": {},
   "source": [
    "### Verifying GPU is being used and configured"
   ]
  },
  {
   "cell_type": "code",
   "execution_count": 24,
   "metadata": {},
   "outputs": [
    {
     "name": "stdout",
     "output_type": "stream",
     "text": [
      "Num GPUs Available:  1\n",
      "[PhysicalDevice(name='/physical_device:GPU:0', device_type='GPU')]\n"
     ]
    }
   ],
   "source": [
    "print(\"Num GPUs Available: \", len(tf.config.list_physical_devices('GPU')))\n",
    "print(tf.config.list_physical_devices('GPU'))"
   ]
  },
  {
   "cell_type": "code",
   "execution_count": 25,
   "metadata": {},
   "outputs": [
    {
     "data": {
      "text/plain": [
       "[name: \"/device:CPU:0\"\n",
       " device_type: \"CPU\"\n",
       " memory_limit: 268435456\n",
       " locality {\n",
       " }\n",
       " incarnation: 15652856176315357239,\n",
       " name: \"/device:GPU:0\"\n",
       " device_type: \"GPU\"\n",
       " memory_limit: 3044750132\n",
       " locality {\n",
       "   bus_id: 1\n",
       "   links {\n",
       "   }\n",
       " }\n",
       " incarnation: 2277810534905550878\n",
       " physical_device_desc: \"device: 0, name: NVIDIA GeForce GTX 1650, pci bus id: 0000:01:00.0, compute capability: 7.5\"]"
      ]
     },
     "execution_count": 25,
     "metadata": {},
     "output_type": "execute_result"
    }
   ],
   "source": [
    "device_lib.list_local_devices()"
   ]
  },
  {
   "cell_type": "markdown",
   "metadata": {},
   "source": [
    "### Creating labels for the categories"
   ]
  },
  {
   "cell_type": "code",
   "execution_count": 44,
   "metadata": {},
   "outputs": [],
   "source": [
    "y_labels = ['A', 'B', 'C', 'D', 'E', \n",
    "            'F', 'G', 'H', 'I', 'J', \n",
    "            'K', 'L', 'M', 'N', 'O', \n",
    "            'P', 'Q', 'R', 'S', 'T', \n",
    "            'U', 'V', 'W', 'X', 'Y', \n",
    "            'Z']"
   ]
  },
  {
   "cell_type": "markdown",
   "metadata": {},
   "source": [
    "### Trainning hyper parameters"
   ]
  },
  {
   "cell_type": "code",
   "execution_count": 43,
   "metadata": {},
   "outputs": [],
   "source": [
    "batch_size = 128\n",
    "epochs = 25\n",
    "num_classes = 26"
   ]
  },
  {
   "cell_type": "markdown",
   "metadata": {},
   "source": [
    "### Loading the landmark datasets"
   ]
  },
  {
   "cell_type": "code",
   "execution_count": 27,
   "metadata": {},
   "outputs": [],
   "source": [
    "x_data = np.load('x_data.npy')\n",
    "y_data = np.load('y_data.npy')\n",
    "x_dimm, y_dimm = x_data.shape[1:]"
   ]
  },
  {
   "cell_type": "markdown",
   "metadata": {},
   "source": [
    "### Printing shape of the loaded data to verify everything is fine"
   ]
  },
  {
   "cell_type": "code",
   "execution_count": 28,
   "metadata": {},
   "outputs": [
    {
     "name": "stdout",
     "output_type": "stream",
     "text": [
      "(231324, 7, 9)\n",
      "(231324,)\n",
      "7 9\n"
     ]
    }
   ],
   "source": [
    "print(x_data.shape)\n",
    "print(y_data.shape)\n",
    "print(x_dimm, y_dimm)"
   ]
  },
  {
   "cell_type": "markdown",
   "metadata": {},
   "source": [
    "### Shuffling and splitting the data into trainning and testing data"
   ]
  },
  {
   "cell_type": "code",
   "execution_count": 29,
   "metadata": {},
   "outputs": [],
   "source": [
    "\n",
    "x_train, x_test, y_train, y_test = train_test_split(x_data, \n",
    "                                                    y_data, \n",
    "                                                    train_size = 0.90)"
   ]
  },
  {
   "cell_type": "markdown",
   "metadata": {},
   "source": [
    "### Adding an extra dimension to the input data since Conv2D layer accepts a 4D tensor as input"
   ]
  },
  {
   "cell_type": "code",
   "execution_count": 30,
   "metadata": {},
   "outputs": [],
   "source": [
    "x_train = x_train.reshape(x_train.shape[0], x_dimm, y_dimm, 1)\n",
    "x_test = x_test.reshape(x_test.shape[0],    x_dimm, y_dimm, 1)"
   ]
  },
  {
   "cell_type": "code",
   "execution_count": 31,
   "metadata": {},
   "outputs": [
    {
     "name": "stdout",
     "output_type": "stream",
     "text": [
      "x_train =  (208191, 7, 9, 1)\n",
      "y_train =  (208191,)\n",
      "x_test  =  (23133, 7, 9, 1)\n",
      "y_train =  (208191,)\n"
     ]
    }
   ],
   "source": [
    "print(\"x_train = \", x_train.shape)\n",
    "print(\"y_train = \",y_train.shape)\n",
    "\n",
    "print(\"x_test  = \",x_test.shape)\n",
    "print(\"y_train = \",y_train.shape)"
   ]
  },
  {
   "cell_type": "markdown",
   "metadata": {},
   "source": [
    "## One-hot encoding the y labels\n",
    "Converting the labels into categorical data "
   ]
  },
  {
   "cell_type": "code",
   "execution_count": 32,
   "metadata": {},
   "outputs": [],
   "source": [
    "encoder = LabelBinarizer()\n",
    "y_train_cat = encoder.fit_transform(y_train)\n",
    "y_test_cat  = encoder.fit_transform(y_test)\n",
    "\n",
    "print(\"y_train_cat = \",y_train_cat.shape)\n",
    "print(\"y_test_cat  = \",y_test_cat.shape)"
   ]
  },
  {
   "cell_type": "markdown",
   "metadata": {},
   "source": [
    "## Creating the baseline model."
   ]
  },
  {
   "cell_type": "code",
   "execution_count": 101,
   "metadata": {},
   "outputs": [],
   "source": [
    "def baseline_model():\n",
    "    model = Sequential()\n",
    "    \n",
    "    #convoltional layer\n",
    "    model.add(Conv2D(32, \n",
    "                    kernel_size = (3,3),\n",
    "                    activation = 'relu',\n",
    "                    input_shape = x_train.shape[1:]))\n",
    "    model.add(Flatten())\n",
    "    \n",
    "    #dense layer 1\n",
    "    model.add(Dense(400, activation='relu'))\n",
    "    model.add(Dropout(0.4))\n",
    "    \n",
    "    #dense layer 2\n",
    "    model.add(Dense(200, activation='relu'))\n",
    "    model.add(Dropout(0.4))\n",
    "    \n",
    "    #dense layer 3\n",
    "    model.add(Dense(50, activation='relu'))\n",
    "    model.add(Dropout(0.4))\n",
    "    \n",
    "    #output layer\n",
    "    model.add(Dense(num_classes, activation='softmax'))\n",
    "    \n",
    "    # compiling the model\n",
    "    model.compile(loss = 'categorical_crossentropy',\n",
    "                 optimizer = 'adam',\n",
    "                 metrics = ['accuracy'])\n",
    "    \n",
    "    # displaying the summary of the model\n",
    "    print(model.summary())\n",
    "    return model"
   ]
  },
  {
   "cell_type": "code",
   "execution_count": 102,
   "metadata": {},
   "outputs": [
    {
     "name": "stdout",
     "output_type": "stream",
     "text": [
      "Model: \"sequential_3\"\n",
      "_________________________________________________________________\n",
      "Layer (type)                 Output Shape              Param #   \n",
      "=================================================================\n",
      "conv2d_3 (Conv2D)            (None, 5, 7, 32)          320       \n",
      "_________________________________________________________________\n",
      "flatten_3 (Flatten)          (None, 1120)              0         \n",
      "_________________________________________________________________\n",
      "dense_12 (Dense)             (None, 400)               448400    \n",
      "_________________________________________________________________\n",
      "dropout_9 (Dropout)          (None, 400)               0         \n",
      "_________________________________________________________________\n",
      "dense_13 (Dense)             (None, 200)               80200     \n",
      "_________________________________________________________________\n",
      "dropout_10 (Dropout)         (None, 200)               0         \n",
      "_________________________________________________________________\n",
      "dense_14 (Dense)             (None, 50)                10050     \n",
      "_________________________________________________________________\n",
      "dropout_11 (Dropout)         (None, 50)                0         \n",
      "_________________________________________________________________\n",
      "dense_15 (Dense)             (None, 26)                1326      \n",
      "=================================================================\n",
      "Total params: 540,296\n",
      "Trainable params: 540,296\n",
      "Non-trainable params: 0\n",
      "_________________________________________________________________\n",
      "None\n"
     ]
    }
   ],
   "source": [
    "baseline = baseline_model()"
   ]
  },
  {
   "cell_type": "markdown",
   "metadata": {},
   "source": [
    "### Trainning the baseline model"
   ]
  },
  {
   "cell_type": "code",
   "execution_count": 103,
   "metadata": {},
   "outputs": [
    {
     "name": "stdout",
     "output_type": "stream",
     "text": [
      "Epoch 1/25\n",
      "1302/1302 [==============================] - 13s 8ms/step - loss: 2.0605 - accuracy: 0.3701 - val_loss: 0.4746 - val_accuracy: 0.8625\n",
      "Epoch 2/25\n",
      "1302/1302 [==============================] - 9s 7ms/step - loss: 0.6519 - accuracy: 0.8038 - val_loss: 0.3295 - val_accuracy: 0.9068\n",
      "Epoch 3/25\n",
      "1302/1302 [==============================] - 11s 8ms/step - loss: 0.4961 - accuracy: 0.8585 - val_loss: 0.2822 - val_accuracy: 0.9176\n",
      "Epoch 4/25\n",
      "1302/1302 [==============================] - 10s 8ms/step - loss: 0.4203 - accuracy: 0.8842 - val_loss: 0.2529 - val_accuracy: 0.9260\n",
      "Epoch 5/25\n",
      "1302/1302 [==============================] - 8s 6ms/step - loss: 0.3797 - accuracy: 0.8945 - val_loss: 0.2331 - val_accuracy: 0.9336\n",
      "Epoch 6/25\n",
      "1302/1302 [==============================] - 8s 6ms/step - loss: 0.3474 - accuracy: 0.9047 - val_loss: 0.2126 - val_accuracy: 0.9392\n",
      "Epoch 7/25\n",
      "1302/1302 [==============================] - 8s 6ms/step - loss: 0.3260 - accuracy: 0.9107 - val_loss: 0.2121 - val_accuracy: 0.9397\n",
      "Epoch 8/25\n",
      "1302/1302 [==============================] - 8s 6ms/step - loss: 0.3054 - accuracy: 0.9158 - val_loss: 0.2055 - val_accuracy: 0.9400\n",
      "Epoch 9/25\n",
      "1302/1302 [==============================] - 9s 7ms/step - loss: 0.2914 - accuracy: 0.9196 - val_loss: 0.1914 - val_accuracy: 0.9450\n",
      "Epoch 10/25\n",
      "1302/1302 [==============================] - 8s 6ms/step - loss: 0.2834 - accuracy: 0.9222 - val_loss: 0.1943 - val_accuracy: 0.9441\n",
      "Epoch 11/25\n",
      "1302/1302 [==============================] - 8s 6ms/step - loss: 0.2763 - accuracy: 0.9243 - val_loss: 0.1864 - val_accuracy: 0.9472\n",
      "Epoch 12/25\n",
      "1302/1302 [==============================] - 8s 6ms/step - loss: 0.2625 - accuracy: 0.9276 - val_loss: 0.1816 - val_accuracy: 0.9481\n",
      "Epoch 13/25\n",
      "1302/1302 [==============================] - 8s 6ms/step - loss: 0.2584 - accuracy: 0.9291 - val_loss: 0.1803 - val_accuracy: 0.9479\n",
      "Epoch 14/25\n",
      "1302/1302 [==============================] - 8s 6ms/step - loss: 0.2535 - accuracy: 0.9296 - val_loss: 0.1720 - val_accuracy: 0.9510\n",
      "Epoch 15/25\n",
      "1302/1302 [==============================] - 8s 6ms/step - loss: 0.2425 - accuracy: 0.9326 - val_loss: 0.1715 - val_accuracy: 0.9515\n",
      "Epoch 16/25\n",
      "1302/1302 [==============================] - 8s 6ms/step - loss: 0.2451 - accuracy: 0.9328 - val_loss: 0.1685 - val_accuracy: 0.9525\n",
      "Epoch 17/25\n",
      "1302/1302 [==============================] - 9s 7ms/step - loss: 0.2355 - accuracy: 0.9343 - val_loss: 0.1657 - val_accuracy: 0.9523\n",
      "Epoch 18/25\n",
      "1302/1302 [==============================] - 8s 6ms/step - loss: 0.2290 - accuracy: 0.9360 - val_loss: 0.1670 - val_accuracy: 0.9524\n",
      "Epoch 19/25\n",
      "1302/1302 [==============================] - 8s 6ms/step - loss: 0.2306 - accuracy: 0.9356 - val_loss: 0.1619 - val_accuracy: 0.9536\n",
      "Epoch 20/25\n",
      "1302/1302 [==============================] - 8s 6ms/step - loss: 0.2213 - accuracy: 0.9372 - val_loss: 0.1621 - val_accuracy: 0.9535\n",
      "Epoch 21/25\n",
      "1302/1302 [==============================] - 8s 6ms/step - loss: 0.2199 - accuracy: 0.9387 - val_loss: 0.1588 - val_accuracy: 0.9542\n",
      "Epoch 22/25\n",
      "1302/1302 [==============================] - 8s 6ms/step - loss: 0.2198 - accuracy: 0.9397 - val_loss: 0.1586 - val_accuracy: 0.9545\n",
      "Epoch 23/25\n",
      "1302/1302 [==============================] - 8s 6ms/step - loss: 0.2139 - accuracy: 0.9418 - val_loss: 0.1566 - val_accuracy: 0.9563\n",
      "Epoch 24/25\n",
      "1302/1302 [==============================] - 8s 6ms/step - loss: 0.2110 - accuracy: 0.9408 - val_loss: 0.1551 - val_accuracy: 0.9560\n",
      "Epoch 25/25\n",
      "1302/1302 [==============================] - 9s 7ms/step - loss: 0.2070 - accuracy: 0.9418 - val_loss: 0.1537 - val_accuracy: 0.9561\n"
     ]
    }
   ],
   "source": [
    "baseline_log = baseline.fit(x_train, # x data for trainning\n",
    "             y_train_cat,            # y data for trainning \n",
    "             batch_size = batch_size,# batch size for trainning\n",
    "             epochs = epochs,        # number of epochs\n",
    "             validation_split = 0.2, # 20% of input data goes for validation\n",
    "             verbose=1)              # show detailed stats of trainning"
   ]
  },
  {
   "cell_type": "markdown",
   "metadata": {},
   "source": [
    "### Function to plot the accuracy and loss of a model"
   ]
  },
  {
   "cell_type": "code",
   "execution_count": 104,
   "metadata": {},
   "outputs": [],
   "source": [
    "def plot_accuracy(model, history):\n",
    "    # running the model on the testing dataset\n",
    "    eval_loss, eval_accuracy = model.evaluate(x_test, \n",
    "                                              y_test_cat, \n",
    "                                              verbose = 0)\n",
    "    \n",
    "    # displaying trainning accuracy and loss\n",
    "    print(\"Train loss          = \", history.history['loss'][-1]*100)\n",
    "    print(\"Train accuracy      = \", history.history['accuracy'][-1]*100)\n",
    "    print()\n",
    "    \n",
    "    # displaying validation accuracy and loss\n",
    "    print(\"Validation loss     = \", history.history['val_loss'][-1]*100)\n",
    "    print(\"Validation accuracy = \", history.history['val_accuracy'][-1]*100)\n",
    "    print()\n",
    "    \n",
    "    # displaying the trainning accuracy and loss\n",
    "    print(\"test loss           = \",eval_loss*100)\n",
    "    print(\"test accuracy       = \",eval_accuracy*100)\n",
    "    \n",
    "    # creating sub plots for accuracy and loss\n",
    "    plt.subplot(2,1,1)\n",
    "    \n",
    "    # plotting model accuracy\n",
    "    plt.title('Model Accuracy')\n",
    "    plt.plot(range(epochs), history.history['accuracy'])\n",
    "    plt.plot(range(epochs), history.history['val_accuracy'])\n",
    "    \n",
    "    plt.ylabel('Accuracy')\n",
    "    plt.xlabel('Epochs')\n",
    "    plt.legend(['Train', 'Validation'], loc='lower right')\n",
    "    \n",
    "    # plotting model loss\n",
    "    plt.subplot(2,1,2)\n",
    "    plt.title('Model loss')\n",
    "    plt.plot(history.history['loss'])\n",
    "    plt.plot(history.history['val_loss'])\n",
    "\n",
    "    plt.ylabel('Loss')\n",
    "    plt.xlabel('Epochs')\n",
    "    plt.legend(['Train', 'Validation'], loc='lower right')\n",
    "\n",
    "    plt.tight_layout()"
   ]
  },
  {
   "cell_type": "markdown",
   "metadata": {},
   "source": [
    "### Plotting the accuracy of the baseline model"
   ]
  },
  {
   "cell_type": "code",
   "execution_count": 105,
   "metadata": {},
   "outputs": [
    {
     "name": "stdout",
     "output_type": "stream",
     "text": [
      "Train loss          =  20.977963507175446\n",
      "Train accuracy      =  94.14717555046082\n",
      "\n",
      "Validation loss     =  15.370234847068787\n",
      "Validation accuracy =  95.6122875213623\n",
      "\n",
      "test loss           =  13.860435783863068\n",
      "test accuracy       =  95.89331150054932\n"
     ]
    },
    {
     "data": {
      "image/png": "[encoded data removed]",
      "text/plain": [
       "<Figure size 432x288 with 2 Axes>"
      ]
     },
     "metadata": {
      "needs_background": "light"
     },
     "output_type": "display_data"
    }
   ],
   "source": [
    "plot_accuracy(baseline, baseline_log)"
   ]
  },
  {
   "cell_type": "markdown",
   "metadata": {},
   "source": [
    "### Ignore, old code for creating confusion matrix"
   ]
  },
  {
   "cell_type": "code",
   "execution_count": 107,
   "metadata": {},
   "outputs": [
    {
     "name": "stderr",
     "output_type": "stream",
     "text": [
      "100%|█████| 23133/23133 [18:43<00:00, 20.58it/s]\n"
     ]
    }
   ],
   "source": [
    "# Ignore this code!\n",
    "cat_accuracy = [[0, 0, 0]]*num_classes\n",
    "cat_matrix = np.array( [[0]*num_classes]*num_classes)\n",
    "\n",
    "l = len(x_test)\n",
    "\n",
    "for i in tqdm( range(l) ):\n",
    "    x = x_test[i]\n",
    "    y = y_test_cat[i]\n",
    "    \n",
    "    x = x.reshape(1, 7, 9, 1)\n",
    "    res = np.argmax(baseline.predict(x)) \n",
    "    cat_matrix[np.argmax(y)][res] += 1"
   ]
  },
  {
   "cell_type": "markdown",
   "metadata": {},
   "source": [
    "### Creating confusion matrix\n",
    "Generating a confusion matrix to make sure that the model\n",
    "is not getting confused among similar signs, like a and s"
   ]
  },
  {
   "cell_type": "code",
   "execution_count": 108,
   "metadata": {
    "tags": []
   },
   "outputs": [],
   "source": [
    "y_prediction = np.argmax( baseline.predict(x_test), axis = 1)\n",
    "y_testing   = np.argmax( y_test_cat, axis = 1)\n",
    "\n",
    "conf_mat = confusion_matrix( y_testing, y_prediction, normalize = 'true')"
   ]
  },
  {
   "cell_type": "markdown",
   "metadata": {},
   "source": [
    "### Plotting the confuision matrix"
   ]
  },
  {
   "cell_type": "code",
   "execution_count": 109,
   "metadata": {},
   "outputs": [
    {
     "data": {
      "text/plain": [
       "<AxesSubplot:>"
      ]
     },
     "execution_count": 109,
     "metadata": {},
     "output_type": "execute_result"
    },
    {
     "data": {
      "image/png": "[encoded data removed]",
      "text/plain": [
       "<Figure size 720x720 with 2 Axes>"
      ]
     },
     "metadata": {
      "needs_background": "light"
     },
     "output_type": "display_data"
    }
   ],
   "source": [
    "plt.subplots(figsize=(8,8))\n",
    "sns.heatmap(conf_mat,\n",
    "           cmap = \"Blues\")"
   ]
  },
  {
   "cell_type": "markdown",
   "metadata": {},
   "source": [
    "### Saving the model"
   ]
  },
  {
   "cell_type": "code",
   "execution_count": 110,
   "metadata": {},
   "outputs": [],
   "source": [
    "baseline.save(\"baseline.model\", save_format=\"h5\")"
   ]
  }
 ],
 "metadata": {
  "kernelspec": {
   "display_name": "Python 3",
   "language": "python",
   "name": "python3"
  },
  "language_info": {
   "codemirror_mode": {
    "name": "ipython",
    "version": 3
   },
   "file_extension": ".py",
   "mimetype": "text/x-python",
   "name": "python",
   "nbconvert_exporter": "python",
   "pygments_lexer": "ipython3",
   "version": "3.8.5"
  }
 },
 "nbformat": 4,
 "nbformat_minor": 4
}
