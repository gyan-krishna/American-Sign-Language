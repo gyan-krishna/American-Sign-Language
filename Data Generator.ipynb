{
 "cells": [
  {
   "cell_type": "markdown",
   "metadata": {},
   "source": [
    "# [1] Application to collect the data set images"
   ]
  },
  {
   "cell_type": "markdown",
   "metadata": {},
   "source": [
    "### Installing required libraries"
   ]
  },
  {
   "cell_type": "code",
   "execution_count": 33,
   "metadata": {},
   "outputs": [
    {
     "name": "stdout",
     "output_type": "stream",
     "text": [
      "Requirement already satisfied: mediapipe in c:\\programdata\\anaconda3\\lib\\site-packages (0.8.3.1)\n",
      "Requirement already satisfied: numpy in c:\\programdata\\anaconda3\\lib\\site-packages (from mediapipe) (1.19.2)\n",
      "Requirement already satisfied: absl-py in c:\\programdata\\anaconda3\\lib\\site-packages (from mediapipe) (0.12.0)\n",
      "Requirement already satisfied: protobuf>=3.11.4 in c:\\programdata\\anaconda3\\lib\\site-packages (from mediapipe) (3.15.8)\n",
      "Requirement already satisfied: opencv-python in c:\\programdata\\anaconda3\\lib\\site-packages (from mediapipe) (4.5.1.48)\n",
      "Requirement already satisfied: dataclasses in c:\\programdata\\anaconda3\\lib\\site-packages (from mediapipe) (0.6)\n",
      "Requirement already satisfied: six in c:\\programdata\\anaconda3\\lib\\site-packages (from mediapipe) (1.15.0)\n",
      "Requirement already satisfied: wheel in c:\\programdata\\anaconda3\\lib\\site-packages (from mediapipe) (0.35.1)\n",
      "Requirement already satisfied: attrs>=19.1.0 in c:\\programdata\\anaconda3\\lib\\site-packages (from mediapipe) (20.3.0)\n",
      "Requirement already satisfied: opencv-python in c:\\programdata\\anaconda3\\lib\\site-packages (4.5.1.48)\n",
      "Requirement already satisfied: numpy>=1.17.3 in c:\\programdata\\anaconda3\\lib\\site-packages (from opencv-python) (1.19.2)\n"
     ]
    }
   ],
   "source": [
    "!pip install mediapipe\n",
    "!pip install opencv-python"
   ]
  },
  {
   "cell_type": "markdown",
   "metadata": {},
   "source": [
    "### Importing required libraries"
   ]
  },
  {
   "cell_type": "code",
   "execution_count": 34,
   "metadata": {},
   "outputs": [],
   "source": [
    "import os\n",
    "import cv2\n",
    "import mediapipe"
   ]
  },
  {
   "cell_type": "markdown",
   "metadata": {},
   "source": [
    "### Creating labels\n",
    "Here each sign of ASL is represneted as a category to be classified </br>\n",
    "y_labels = labels of each category in the classification  </br>"
   ]
  },
  {
   "cell_type": "code",
   "execution_count": 35,
   "metadata": {},
   "outputs": [],
   "source": [
    "y_labels = ['A', 'B', 'C', 'D', 'E', 'F', \n",
    "            'G', 'H', 'I', 'J', 'K', 'L', \n",
    "            'M', 'N', 'O', 'P', 'Q', 'R', \n",
    "            'S', 'T', 'U', 'V', 'W', 'X', \n",
    "            'Y', 'Z']\n",
    "\n",
    "count_labels = len(y_labels)"
   ]
  },
  {
   "cell_type": "markdown",
   "metadata": {},
   "source": [
    "### Setting up fonts for the data collector app"
   ]
  },
  {
   "cell_type": "code",
   "execution_count": 43,
   "metadata": {},
   "outputs": [],
   "source": [
    "# fonts to be used in the interface\n",
    "font = cv2.FONT_HERSHEY_SIMPLEX\n",
    "fontScale = 0.7\n",
    "color = (0, 0, 255) # color in bgr format, red\n",
    "thickness = 2"
   ]
  },
  {
   "cell_type": "markdown",
   "metadata": {},
   "source": [
    "### Creating the Folders for the dataset"
   ]
  },
  {
   "cell_type": "code",
   "execution_count": 37,
   "metadata": {},
   "outputs": [],
   "source": [
    "path = r'datasets_demo'\n",
    "os.mkdir(path)\n",
    "for label in y_labels:\n",
    "    dir_path = os.path.join(path, label)\n",
    "    os.mkdir(dir_path)"
   ]
  },
  {
   "cell_type": "markdown",
   "metadata": {},
   "source": [
    "### Data set collection\n",
    "##### Contol keys for the data collection process :\n",
    "1. S :: Start data collection in 100 Seconds\n",
    "2. P :: Pause data collection\n",
    "3. R :: Restart Data Collection\n",
    "4. Q :: Quit"
   ]
  },
  {
   "cell_type": "code",
   "execution_count": 52,
   "metadata": {},
   "outputs": [],
   "source": [
    "cap = cv2.VideoCapture(0) # opening video capture stream from the webcam\n",
    "sample = cv2.imread(\"ASL_Alphabet.jpg\") # loading refrence image \n",
    "cv2.imshow(\"sample\", sample) # displaying the hand symbol \n",
    "\n",
    "# status of the collection procress initialized to idle\n",
    "status = \"idle\" \n",
    "count = 0 # number of images collected per category\n",
    "curr_cat = 0 # categoory of image being collected presently\n",
    "max_samples = 500 # number of images to be collected per category\n",
    "\n",
    "# extracting the frame height of the video stream\n",
    "frameHeight = int(cap.get(cv2.CAP_PROP_FRAME_HEIGHT))\n",
    "# frame width = frame hight , i.e. square images\n",
    "frameWidth = frameHeight\n",
    "\n",
    "# creating a mdeiapipe hand module to detect and extract landmakrs from the hand\n",
    "handsModule = mediapipe.solutions.hands\n",
    "\n",
    "# creating a drawing module for mediapipe\n",
    "drawingModule = mediapipe.solutions.drawing_utils\n",
    "\n",
    "#path of the folder to save the images\n",
    "path = r\"datasets_demo\"\n",
    "\n",
    "with handsModule.Hands(static_image_mode=True,      # extracting the landmarks in static image mode\n",
    "                       min_detection_confidence=0.7, # at least 70% accuracy needed to detect a hand\n",
    "                       min_tracking_confidence=0.7,  # at lease 70% accuracy needed to track a hand\n",
    "                       max_num_hands=1) as hands:    # maximum 1 hands will be detected\n",
    "    \n",
    "    while (curr_cat < len(y_labels)): # looping till images for all categories is captured\n",
    "        \n",
    "        # obtaining the directory path for the current category\n",
    "        dir_path = os.path.join(path, y_labels[curr_cat])\n",
    "        \n",
    "        # capturing a frame from the webcam \n",
    "        ret, frame = cap.read()\n",
    "        \n",
    "        # cropping the frame to set shape\n",
    "        frame = frame[0:frameHeight, 0:frameHeight]\n",
    "        \n",
    "        #creating a duplicate the frame\n",
    "        raw = frame.copy()\n",
    "        \n",
    "        # adding text in the image for UI\n",
    "        img = cv2.putText(frame, 'Sample Data Collector', (30,30), font, 1, (255,0,0), 2, cv2.LINE_AA)\n",
    "        \n",
    "        # scanning the image for hands\n",
    "        results = hands.process(cv2.cvtColor(frame, cv2.COLOR_BGR2RGB))\n",
    "        \n",
    "        # checking if hand is detected\n",
    "        if results.multi_hand_landmarks != None:\n",
    "            \n",
    "            # drawing the landmarks in the image\n",
    "            for handLandmarks in results.multi_hand_landmarks:\n",
    "                drawingModule.draw_landmarks(img,\n",
    "                                        handLandmarks,\n",
    "                                        handsModule.HAND_CONNECTIONS)                \n",
    "            \n",
    "            #displaying additional information \n",
    "            img = cv2.putText(frame, 'Hand Detected', (30,60), font, fontScale, color, thickness, cv2.LINE_AA)\n",
    "            img = cv2.putText(frame, 'Category : '+y_labels[curr_cat], (30,90), font, fontScale, color, thickness, cv2.LINE_AA)\n",
    "            img = cv2.putText(frame, 'Data point : '+str(count), (30,120), font, fontScale, color, thickness, cv2.LINE_AA)\n",
    "            \n",
    "            # if the app is in collection mode, and entire samples are not collected,\n",
    "            # save the images and increase count by 1\n",
    "            if(status == 'collecting' and count < max_samples):\n",
    "                count += 1\n",
    "                #generating the image path\n",
    "                img_path = os.path.join(dir_path, str(count)+\".jpg\")\n",
    "                cv2.imwrite(img_path, raw) #save img    \n",
    "                \n",
    "            # if all samples for the category is collected, \n",
    "            # 1. get back to idle mode\n",
    "            # 2. get back to idle mode\n",
    "            # 3. increase curr_cat variable\n",
    "            elif(count == max_samples):\n",
    "                count = 0\n",
    "                status = \"idle\"\n",
    "                curr_cat += 1\n",
    "        # if hands not detected, print error message\n",
    "        else:\n",
    "                img = cv2.putText(frame, 'Hand not detected', (30,60), font, fontScale, color, thickness, cv2.LINE_AA)\n",
    "        \n",
    "        #display the frame\n",
    "        cv2.imshow('Test hand', img)\n",
    "        \n",
    "        key = cv2.waitKey(1)\n",
    "        \n",
    "        # checking if any key pressed, and if so the porcessing the commands given\n",
    "        if(key == 27 or key == ord('q')): # quit the application\n",
    "            break\n",
    "        elif(key == ord('s') or key == ord('S')): #start collection\n",
    "            cv2.waitKey(1000)\n",
    "            status = 'collecting'\n",
    "            print(\"status : \", status)\n",
    "        elif(key == ord('p') or key == ord('P')): # pause data collection\n",
    "            status = 'paused'\n",
    "            print(\"status : \", status)\n",
    "        elif(key == ord('r') or key == ord('R')): # restart data collection for current category\n",
    "            status = \"restart\"\n",
    "            print(\"restart\")\n",
    "            count = 0\n",
    "            status = \"idle\"\n",
    "            print(\"status : \", status)\n",
    "            \n",
    "\n",
    "cv2.destroyAllWindows() # close all windows created\n",
    "cap.release() #release the webcam video stream"
   ]
  },
  {
   "cell_type": "code",
   "execution_count": 41,
   "metadata": {},
   "outputs": [],
   "source": [
    "cap.release()\n",
    "cv2.destroyAllWindows()"
   ]
  },
  {
   "cell_type": "code",
   "execution_count": null,
   "metadata": {},
   "outputs": [],
   "source": []
  }
 ],
 "metadata": {
  "kernelspec": {
   "display_name": "Python 3",
   "language": "python",
   "name": "python3"
  },
  "language_info": {
   "codemirror_mode": {
    "name": "ipython",
    "version": 3
   },
   "file_extension": ".py",
   "mimetype": "text/x-python",
   "name": "python",
   "nbconvert_exporter": "python",
   "pygments_lexer": "ipython3",
   "version": "3.8.5"
  }
 },
 "nbformat": 4,
 "nbformat_minor": 4
}
